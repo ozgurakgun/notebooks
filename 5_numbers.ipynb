{
  "cells": [
    {
      "cell_type": "markdown",
      "metadata": {
        "id": "view-in-github",
        "colab_type": "text"
      },
      "source": [
        "<a href=\"https://colab.research.google.com/github/ozgurakgun/notebooks/blob/main/5_numbers.ipynb\" target=\"_parent\"><img src=\"https://colab.research.google.com/assets/colab-badge.svg\" alt=\"Open In Colab\"/></a>"
      ]
    },
    {
      "cell_type": "markdown",
      "metadata": {
        "id": "yLAT1CpaffRO"
      },
      "source": [
        "For context, see https://twitter.com/wtgowers/status/1581667648592826369\n",
        "\n",
        "Let's make a copy of it here as well.\n",
        "\n",
        "---\n",
        "\n",
        "> A set of 5 numbers has:\n",
        "> - mode of 24\n",
        "> - median of 21\n",
        "> - mean of 20\n",
        ">\n",
        "> What are the 5 numbers?\n",
        "\n",
        "---\n",
        "\n",
        "There is some excitement about the wording of this question on Twitter, which is fair. There isn't a unique solution and from the wording it might sound like there would be. Let's ignore that for a moment.\n",
        "\n",
        "(I am also slightly disturbed by the use of \"set\" here, even though we are not finding a mathematical set, where all elements would be distinct. Oh well.)\n",
        "\n",
        "---\n",
        "\n",
        "Let's do some thinking here.\n",
        "\n",
        "Solutions would look like this: a,b,c,d,e (a list of 5 numbers)\n",
        "\n",
        "To avoid equivalent solutions, let's post that this list of numbers will be in non-decreasing order.\n",
        "\n",
        "Median is 21, so c=21.\n",
        "\n",
        "Mode is 24, so it must be the most frequent. 24 can only occur to the right of c, since our list is ordered. And we need at least two 24s for it to be more frequent than 21. And we need can have at most two 24s since there are only 2 numbers to the right of 21. So d=e=24.\n",
        "\n",
        "Mean is 20, hence sum is 100. `c+d+e=69`. `a+b=31`. `b<21`. So the following are all solutions:\n",
        "\n",
        "- a=11, b=20\n",
        "- a=12, b=19\n",
        "- a=13, b=18\n",
        "- a=14, b=17\n",
        "- a=15, b=16\n",
        "\n",
        "The problem has 5 solutions.\n",
        "\n",
        "---\n",
        "\n",
        "We can also use Constraint Programming to solve this problem. Let's model and solve using Conjure.\n",
        "\n",
        "We first load the Conjure extension for Jupyter."
      ]
    },
    {
      "cell_type": "code",
      "execution_count": 15,
      "metadata": {
        "colab": {
          "base_uri": "https://localhost:8080/"
        },
        "id": "cNGU4dlVfYuh",
        "outputId": "370aae08-3fff-468b-c102-2a8f5f429312"
      },
      "outputs": [
        {
          "output_type": "stream",
          "name": "stdout",
          "text": [
            "  % Total    % Received % Xferd  Average Speed   Time    Time     Time  Current\n",
            "                                 Dload  Upload   Total   Spent    Left  Speed\n",
            "100   711  100   711    0     0   1552      0 --:--:-- --:--:-- --:--:--  1555\n",
            "Installing Conjure...\n",
            "Conjure: The Automated Constraint Modelling Tool\n",
            "Release version 2.3.0\n",
            "Repository version 987ee3fc3 (2022-06-10 21:50:17 +0100)\n",
            "The conjure extension is already loaded. To reload it, use:\n",
            "  %reload_ext conjure\n"
          ]
        }
      ],
      "source": [
        "!source <(curl https://raw.githubusercontent.com/conjure-cp/conjure-notebook/main/installcolab.sh)\n",
        "%load_ext conjure"
      ]
    },
    {
      "cell_type": "markdown",
      "metadata": {
        "id": "wTngfCI9scA-"
      },
      "source": [
        "We will want to enumerate all solutions, for that we use the Conjure settings command and make the following two changes:\n",
        "- turn off solution printing\n",
        "- type \"all\" in the number of solutions box. this box takes either a number or the string all."
      ]
    },
    {
      "cell_type": "markdown",
      "metadata": {
        "id": "-lRIxxBIp3gX"
      },
      "source": [
        "We need to give a lower and an upper bound for the numbers, Essence deals with finite domain problems only. This is not explicitly given in the problem description, so we need to come up with something. It wouldn't hurt to use large numbers (for correctness). The only problem could be efficiency, in some cases, but this is an easy problem. "
      ]
    },
    {
      "cell_type": "code",
      "source": [
        "%conjure_clear"
      ],
      "metadata": {
        "colab": {
          "base_uri": "https://localhost:8080/"
        },
        "id": "8pWW7yOPaIjI",
        "outputId": "6df7d1ee-5032-4aed-aee7-f63fc203ea22"
      },
      "execution_count": 34,
      "outputs": [
        {
          "output_type": "stream",
          "name": "stdout",
          "text": [
            "Conjure model cleared\n"
          ]
        }
      ]
    },
    {
      "cell_type": "code",
      "execution_count": 35,
      "metadata": {
        "id": "66ShvH97gK8q"
      },
      "outputs": [],
      "source": [
        "lb, ub = 0, 100"
      ]
    },
    {
      "cell_type": "markdown",
      "source": [
        "Now we write a model!"
      ],
      "metadata": {
        "id": "T1NsLvY2Y_KQ"
      }
    },
    {
      "cell_type": "code",
      "execution_count": 36,
      "metadata": {
        "colab": {
          "base_uri": "https://localhost:8080/"
        },
        "id": "xnXnltW1fqOi",
        "outputId": "8043b0d2-428f-42f3-c311-3bd2e7d92d17"
      },
      "outputs": [
        {
          "output_type": "execute_result",
          "data": {
            "text/plain": [
              "{'x': {'1': 0, '2': 0, '3': 0, '4': 0, '5': 0}}"
            ]
          },
          "metadata": {},
          "execution_count": 36
        }
      ],
      "source": [
        "%%conjure\n",
        "\n",
        "given lb, ub : int\n",
        "letting number be domain int(lb..ub)\n",
        "find x : matrix indexed by [int(1..5)] of number\n"
      ]
    },
    {
      "cell_type": "markdown",
      "source": [],
      "metadata": {
        "id": "N1wo94Y0ZPhy"
      }
    },
    {
      "cell_type": "code",
      "source": [
        "%%conjure\n",
        "\n",
        "$ mean is 20\n",
        "such that sum(x) = 5 * 20\n"
      ],
      "metadata": {
        "colab": {
          "base_uri": "https://localhost:8080/"
        },
        "id": "FkOsryooZcuj",
        "outputId": "b861f7d0-289f-419c-ef5a-fddeea176214"
      },
      "execution_count": 37,
      "outputs": [
        {
          "output_type": "execute_result",
          "data": {
            "text/plain": [
              "{'x': {'1': 0, '2': 0, '3': 0, '4': 0, '5': 100}}"
            ]
          },
          "metadata": {},
          "execution_count": 37
        }
      ]
    },
    {
      "cell_type": "code",
      "source": [
        "%%conjure\n",
        "\n",
        "$ median is 21\n",
        "such that x[3] = 21\n"
      ],
      "metadata": {
        "colab": {
          "base_uri": "https://localhost:8080/"
        },
        "id": "8xJv7siyZaL2",
        "outputId": "82e2263d-f261-4118-b2ae-90844aa129e4"
      },
      "execution_count": 38,
      "outputs": [
        {
          "output_type": "execute_result",
          "data": {
            "text/plain": [
              "{'x': {'1': 0, '2': 0, '3': 21, '4': 0, '5': 79}}"
            ]
          },
          "metadata": {},
          "execution_count": 38
        }
      ]
    },
    {
      "cell_type": "code",
      "source": [
        "%%conjure\n",
        "\n",
        "$ mode is 24\n",
        "such that [ freq(x, 24) > freq(x, i) | i : number, i != 24 ]\n"
      ],
      "metadata": {
        "colab": {
          "base_uri": "https://localhost:8080/"
        },
        "id": "Yw5nNIVPZQiE",
        "outputId": "96049c9e-7f45-4079-ae61-2ef2ee3411bd"
      },
      "execution_count": 39,
      "outputs": [
        {
          "output_type": "execute_result",
          "data": {
            "text/plain": [
              "{'x': {'1': 0, '2': 24, '3': 21, '4': 24, '5': 31}}"
            ]
          },
          "metadata": {},
          "execution_count": 39
        }
      ]
    },
    {
      "cell_type": "code",
      "source": [
        "%%conjure\n",
        "\n",
        "$ symmetry breaking\n",
        "such that [ x[i-1] <= x[i] | i : int(2..5) ]\n"
      ],
      "metadata": {
        "colab": {
          "base_uri": "https://localhost:8080/"
        },
        "id": "pDwWbXI9Zfa9",
        "outputId": "b27af7a3-dbf0-4832-b8b1-90d8b94d797e"
      },
      "execution_count": 40,
      "outputs": [
        {
          "output_type": "execute_result",
          "data": {
            "text/plain": [
              "{'x': {'1': 11, '2': 20, '3': 21, '4': 24, '5': 24}}"
            ]
          },
          "metadata": {},
          "execution_count": 40
        }
      ]
    },
    {
      "cell_type": "code",
      "source": [
        "%%conjure --number-of-solutions=all\n",
        "\n",
        "such that true\n"
      ],
      "metadata": {
        "colab": {
          "base_uri": "https://localhost:8080/"
        },
        "id": "raWZQPALZwAt",
        "outputId": "127e990a-2eac-4c6f-c9d8-b93036d0751c"
      },
      "execution_count": 41,
      "outputs": [
        {
          "output_type": "execute_result",
          "data": {
            "text/plain": [
              "{'conjure_solutions': [{'x': {'1': 15, '2': 16, '3': 21, '4': 24, '5': 24}},\n",
              "  {'x': {'1': 12, '2': 19, '3': 21, '4': 24, '5': 24}},\n",
              "  {'x': {'1': 13, '2': 18, '3': 21, '4': 24, '5': 24}},\n",
              "  {'x': {'1': 11, '2': 20, '3': 21, '4': 24, '5': 24}},\n",
              "  {'x': {'1': 14, '2': 17, '3': 21, '4': 24, '5': 24}}]}"
            ]
          },
          "metadata": {},
          "execution_count": 41
        }
      ]
    },
    {
      "cell_type": "code",
      "execution_count": 53,
      "metadata": {
        "colab": {
          "base_uri": "https://localhost:8080/"
        },
        "id": "0sX3HKKajg2N",
        "outputId": "133e4844-2d0d-49f9-94c2-2575084fd2bd"
      },
      "outputs": [
        {
          "output_type": "stream",
          "name": "stdout",
          "text": [
            "11, 20, 21, 24, 24\n",
            "12, 19, 21, 24, 24\n",
            "13, 18, 21, 24, 24\n",
            "14, 17, 21, 24, 24\n",
            "15, 16, 21, 24, 24\n"
          ]
        }
      ],
      "source": [
        "# just some hacky Python to print things out\n",
        "# importantly, notice that conjure_solutions is available in Python\n",
        "\n",
        "def printSol(sol):\n",
        "  return \", \".join([ str(y) for x, y in sol.items() ])\n",
        "\n",
        "print(\"\\n\".join(sorted([printSol(sol['x']) for sol in conjure_solutions])))"
      ]
    }
  ],
  "metadata": {
    "colab": {
      "collapsed_sections": [],
      "provenance": [],
      "authorship_tag": "ABX9TyNDcbXKxhGPoyxb11oqxr7b",
      "include_colab_link": true
    },
    "kernelspec": {
      "display_name": "Python 3",
      "name": "python3"
    },
    "language_info": {
      "name": "python"
    }
  },
  "nbformat": 4,
  "nbformat_minor": 0
}