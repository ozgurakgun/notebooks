{
  "cells": [
    {
      "cell_type": "markdown",
      "metadata": {
        "id": "view-in-github",
        "colab_type": "text"
      },
      "source": [
        "<a href=\"https://colab.research.google.com/github/ozgurakgun/notebooks/blob/main/Cryptarithmetic_(generic).ipynb\" target=\"_parent\"><img src=\"https://colab.research.google.com/assets/colab-badge.svg\" alt=\"Open In Colab\"/></a>"
      ]
    },
    {
      "cell_type": "markdown",
      "metadata": {
        "id": "Kg57FfimgefG"
      },
      "source": [
        "# Setup"
      ]
    },
    {
      "cell_type": "code",
      "execution_count": null,
      "metadata": {
        "colab": {
          "base_uri": "https://localhost:8080/",
          "height": 179
        },
        "id": "qlyhqHQ0SuTd",
        "outputId": "30a6e5dc-24d2-496a-8338-465ed8616596"
      },
      "outputs": [
        {
          "name": "stdout",
          "output_type": "stream",
          "text": [
            "Installing Conjure version v2.5.1 and Conjure Notebook version v0.0.10...\n",
            "Conjure is already installed.\n",
            "Conjure notebook is already installed.\n",
            "Conjure: The Automated Constraint Modelling Tool\n",
            "Release version 2.5.1\n",
            "Repository version a9cbc2e (2023-11-07 23:44:00 +0000)\n"
          ]
        },
        {
          "data": {
            "application/javascript": [
              "\"use strict\";\n",
              "\n",
              "CodeMirror.defineMode(\"text/conjure\", function (config) {\n",
              "\n",
              "    var isOperatorChar = /[+\\-*=<>%^\\/]/;\n",
              "\n",
              "    var keywords = {\n",
              "        \"forall\": true,\n",
              "        \"allDifferent\": true,\n",
              "        \"allDiff\": true,\n",
              "        \"alldifferent_except\": true,\n",
              "        \"dim\": true,\n",
              "        \"toSet\": true,\n",
              "        \"toMSet\": true,\n",
              "        \"toRelation\": true,\n",
              "        \"maximising\": true,\n",
              "        \"minimising\": true,\n",
              "        \"forAll\": true,\n",
              "        \"exists\": true,\n",
              "        \"toInt\": true,\n",
              "        \"sum\": true,\n",
              "        \"be\": true,\n",
              "        \"bijective\": true,\n",
              "        \"bool\": true,\n",
              "        \"by\": true,\n",
              "        \"complete\": true,\n",
              "        \"defined\": true,\n",
              "        \"domain\": true,\n",
              "        \"in\": true,\n",
              "        \"or\": true,\n",
              "        \"and\": true,\n",
              "        \"false\": true,\n",
              "        \"find\": true,\n",
              "        \"from\": true,\n",
              "        \"function\": true,\n",
              "        \"given\": true,\n",
              "        \"image\": true,\n",
              "        \"indexed\": true,\n",
              "        \"injective\": true,\n",
              "        \"int\": true,\n",
              "        \"intersect\": true,\n",
              "        \"freq\": true,\n",
              "        \"lambda\": true,\n",
              "        \"language\": true,\n",
              "        \"letting\": true,\n",
              "        \"matrix\": true,\n",
              "        \"maxNumParts\": true,\n",
              "        \"maxOccur\": true,\n",
              "        \"maxPartSize\": true,\n",
              "        \"maxSize\": true,\n",
              "        \"minNumParts\": true,\n",
              "        \"minOccur\": true,\n",
              "        \"minPartSize\": true,\n",
              "        \"minSize\": true,\n",
              "        \"mset\": true,\n",
              "        \"numParts\": true,\n",
              "        \"of\": true,\n",
              "        \"partial\": true,\n",
              "        \"partition\": true,\n",
              "        \"partSize\": true,\n",
              "        \"preImage\": true,\n",
              "        \"quantifier\": true,\n",
              "        \"range\": true,\n",
              "        \"regular\": true,\n",
              "        \"relation\": true,\n",
              "        \"representation\": true,\n",
              "        \"set\": true,\n",
              "        \"size\": true,\n",
              "        \"subset\": true,\n",
              "        \"subsetEq\": true,\n",
              "        \"such\": true,\n",
              "        \"supset\": true,\n",
              "        \"supsetEq\": true,\n",
              "        \"surjective\": true,\n",
              "        \"that\": true,\n",
              "        \"together\": true,\n",
              "        \"enum\": true,\n",
              "        \"total\": true,\n",
              "        \"true\": true,\n",
              "        \"new\": true,\n",
              "        \"type\": true,\n",
              "        \"tuple\": true,\n",
              "        \"union\": true,\n",
              "        \"where\": true,\n",
              "        \"branching\": true,\n",
              "        \"on\": true\n",
              "    };  \n",
              "    var punc = \":;,.(){}[]\";\n",
              "\n",
              "    function tokenBase(stream, state) {\n",
              "        var ch = stream.next();\n",
              "        if (ch == '\"') {\n",
              "            state.tokenize.push(tokenString);\n",
              "            return tokenString(stream, state);\n",
              "        }\n",
              "        if (/[\\d\\.]/.test(ch)) {\n",
              "            if (ch == \".\") {\n",
              "                stream.match(/^[0-9]+([eE][\\-+]?[0-9]+)?/);\n",
              "            } else if (ch == \"0\") {\n",
              "                stream.match(/^[xX][0-9a-fA-F]+/) || stream.match(/^0[0-7]+/);\n",
              "            } else {\n",
              "                stream.match(/^[0-9]*\\.?[0-9]*([eE][\\-+]?[0-9]+)?/);\n",
              "            }\n",
              "            return \"number\";\n",
              "        }\n",
              "        if (ch == \"/\") {\n",
              "            if (stream.eat(\"*\")) {\n",
              "                state.tokenize.push(tokenComment);\n",
              "                return tokenComment(stream, state);\n",
              "            }\n",
              "        }\n",
              "        if (ch == \"$\") {\n",
              "            stream.skipToEnd();\n",
              "            return \"comment\";\n",
              "        }\n",
              "        if (isOperatorChar.test(ch)) {\n",
              "            stream.eatWhile(isOperatorChar);\n",
              "            return \"operator\";\n",
              "        }\n",
              "        if (punc.indexOf(ch) > -1) {\n",
              "            return \"punctuation\";\n",
              "        }\n",
              "        stream.eatWhile(/[\\w\\$_\\xa1-\\uffff]/);\n",
              "        var cur = stream.current();\n",
              "        \n",
              "        if (keywords.propertyIsEnumerable(cur)) {\n",
              "            return \"keyword\";\n",
              "        }\n",
              "        return \"variable\";\n",
              "    }\n",
              "\n",
              "    function tokenComment(stream, state) {\n",
              "        var maybeEnd = false, ch;\n",
              "        while (ch = stream.next()) {\n",
              "            if (ch == \"/\" && maybeEnd) {\n",
              "                state.tokenize.pop();\n",
              "                break;\n",
              "            }\n",
              "            maybeEnd = (ch == \"*\");\n",
              "        }\n",
              "        return \"comment\";\n",
              "    }\n",
              "\n",
              "    function tokenUntilClosingParen() {\n",
              "        var depth = 0;\n",
              "        return function (stream, state, prev) {\n",
              "            var inner = tokenBase(stream, state, prev);\n",
              "            console.log(\"untilClosing\", inner, stream.current());\n",
              "            if (inner == \"punctuation\") {\n",
              "                if (stream.current() == \"(\") {\n",
              "                    ++depth;\n",
              "                } else if (stream.current() == \")\") {\n",
              "                    if (depth == 0) {\n",
              "                        stream.backUp(1)\n",
              "                        state.tokenize.pop()\n",
              "                        return state.tokenize[state.tokenize.length - 1](stream, state)\n",
              "                    } else {\n",
              "                        --depth;\n",
              "                    }\n",
              "                }\n",
              "            }\n",
              "            return inner;\n",
              "        }\n",
              "    }\n",
              "\n",
              "    function tokenString(stream, state) {\n",
              "        var escaped = false, next, end = false;\n",
              "        while ((next = stream.next()) != null) {\n",
              "            if (next == '(' && escaped) {\n",
              "                state.tokenize.push(tokenUntilClosingParen());\n",
              "                return \"string\";\n",
              "            }\n",
              "            if (next == '\"' && !escaped) { end = true; break; }\n",
              "            escaped = !escaped && next == \"\\\\\";\n",
              "        }\n",
              "        if (end || !escaped)\n",
              "            state.tokenize.pop();\n",
              "        return \"string\";\n",
              "    }\n",
              "\n",
              "    return {\n",
              "        startState: function (basecolumn) {\n",
              "            return {\n",
              "                tokenize: []\n",
              "            };\n",
              "        },\n",
              "\n",
              "        token: function (stream, state) {\n",
              "            if (stream.eatSpace()) return null;\n",
              "            var style = (state.tokenize[state.tokenize.length - 1] || tokenBase)(stream, state);\n",
              "            console.log(\"token\", style);\n",
              "            return style;\n",
              "        },\n",
              "\n",
              "        blockCommentStart: \"/*\",\n",
              "        blockCommentEnd: \"*/\",\n",
              "        lineComment: \"$\"\n",
              "    };\n",
              "});\n",
              "\n",
              "\n",
              "CodeMirror.defineMIME(\"text/conjure\", \"text/conjure\");\n",
              "\n",
              "require(['notebook/js/codecell'], function (codecell) {\n",
              "    codecell.CodeCell.options_default.highlight_modes['magic_text/conjure'] = { 'reg': [/%?%conjure/] };\n",
              "    Jupyter.notebook.events.one('kernel_ready.Kernel', function () {\n",
              "        Jupyter.notebook.get_cells().map(function (cell) {\n",
              "            if (cell.cell_type == 'code') { cell.auto_highlight(); }\n",
              "        });\n",
              "    });\n",
              "});\n",
              "\n"
            ],
            "text/plain": [
              "<IPython.core.display.Javascript object>"
            ]
          },
          "metadata": {},
          "output_type": "display_data"
        },
        {
          "data": {
            "text/markdown": "Conjure extension is loaded - run `%conjure_help`",
            "text/plain": [
              "<IPython.core.display.Markdown object>"
            ]
          },
          "metadata": {},
          "output_type": "display_data"
        }
      ],
      "source": [
        "!source <(curl -s https://raw.githubusercontent.com/conjure-cp/conjure-notebook/v0.0.10/scripts/install-colab.sh)\n",
        "%reload_ext conjure"
      ]
    },
    {
      "cell_type": "code",
      "execution_count": null,
      "metadata": {
        "id": "Xgr5uQWHWQTt"
      },
      "outputs": [],
      "source": [
        "def create_new_cell(contents):\n",
        "    from google.colab import _frontend\n",
        "    _frontend.create_scratch_cell(contents, True)"
      ]
    },
    {
      "cell_type": "code",
      "execution_count": null,
      "metadata": {
        "id": "kGQkcM9H73Jl"
      },
      "outputs": [],
      "source": [
        "\n",
        "def sum_expr(str):\n",
        "    return \"+\".join([f\"{pow(10, len(str)-i-1)}*{l}\" for i,l in enumerate(str)])\n",
        "\n",
        "def concat_expr(str):\n",
        "    return \" + \".join([f\"str({l})\" for l in str])\n",
        "\n",
        "# mode = sat | allsat | opt\n",
        "def generate_cryptarithmetic_essence(eq, mode=\"sat\", val=None):\n",
        "    # parsing\n",
        "    [lhs, rhs] = eq.split('=')\n",
        "    [x, y] = lhs.split('+')\n",
        "    z = rhs\n",
        "\n",
        "    # extracting useful stuff\n",
        "    letters = set()\n",
        "    for l in x: letters.add(l)\n",
        "    for l in y: letters.add(l)\n",
        "    for l in z: letters.add(l)\n",
        "\n",
        "    first_letters = set()\n",
        "    first_letters.add(x[0])\n",
        "    first_letters.add(y[0])\n",
        "    first_letters.add(z[0])\n",
        "\n",
        "    letters_str = \",\".join(letters)\n",
        "\n",
        "    conjure_cell = []\n",
        "\n",
        "    if mode == \"all\":\n",
        "        conjure_cell.append(f\"%%conjure --number-of-solutions=all\")\n",
        "    else:\n",
        "        conjure_cell.append(f\"%%conjure\")\n",
        "    conjure_cell.append(f\"find {letters_str} : int(0..9)\")\n",
        "    conjure_cell.append(f\"such that allDiff([{letters_str}])\")\n",
        "    conjure_cell.append(\"such that \" + \", \".join([f\"{l}>0\" for l in first_letters]))\n",
        "\n",
        "    conjure_cell.append(f\"such that {sum_expr(x)} + {sum_expr(y)} = {sum_expr(z)}\")\n",
        "\n",
        "    z_max = pow(10, len(rhs)) - 1\n",
        "    conjure_cell.append(f\"find {z} : int(0..{z_max})\")\n",
        "    conjure_cell.append(f\"such that {z} = {sum_expr(z)}\")\n",
        "    if val:\n",
        "        conjure_cell.append(f\"such that {z} = {val}\")\n",
        "\n",
        "    if mode == \"opt\":\n",
        "        conjure_cell.append(f\"maximising {z}\")\n",
        "\n",
        "    solution_printing_cell = []\n",
        "    solution_printing_cell.append(\"def conjure_display_solution():\")\n",
        "    solution_printing_cell.append(f\"    print({concat_expr(x)}, '+', {concat_expr(y)}, '=', {concat_expr(z)})\")\n",
        "\n",
        "    create_new_cell(\"\\n\".join(solution_printing_cell))\n",
        "    create_new_cell(\"\\n\".join(conjure_cell))\n"
      ]
    },
    {
      "cell_type": "markdown",
      "metadata": {
        "id": "7KHtIuK5gipa"
      },
      "source": [
        "# Playground"
      ]
    },
    {
      "cell_type": "code",
      "execution_count": null,
      "metadata": {
        "id": "Jj51NOJ6obgU"
      },
      "outputs": [],
      "source": [
        "generate_cryptarithmetic_essence(\"SEND+MORE=MONEY\")"
      ]
    },
    {
      "cell_type": "code",
      "execution_count": null,
      "metadata": {
        "id": "3DzLaEomoeqa"
      },
      "outputs": [],
      "source": [
        "generate_cryptarithmetic_essence(\"SEND+MOST=MONEY\")"
      ]
    },
    {
      "cell_type": "code",
      "execution_count": null,
      "metadata": {
        "id": "-ymoaaQ2ofwN"
      },
      "outputs": [],
      "source": [
        "generate_cryptarithmetic_essence(\"SEND+MOST=MONEY\", mode=\"all\")"
      ]
    },
    {
      "cell_type": "code",
      "execution_count": null,
      "metadata": {
        "id": "7UrMlEnWoh1R"
      },
      "outputs": [],
      "source": [
        "generate_cryptarithmetic_essence(\"SEND+MOST=MONEY\", mode=\"opt\")"
      ]
    },
    {
      "cell_type": "code",
      "execution_count": null,
      "metadata": {
        "id": "Du1rDG4koju6"
      },
      "outputs": [],
      "source": [
        "generate_cryptarithmetic_essence(\"SEND+MOST=MONEY\", mode=\"all\", val=10876)"
      ]
    },
    {
      "cell_type": "code",
      "execution_count": null,
      "metadata": {
        "id": "wJLHBDMklJr_"
      },
      "outputs": [],
      "source": [
        "generate_cryptarithmetic_essence(\"CROSS+ROADS=DANGER\", mode=\"all\", val=158746)"
      ]
    },
    {
      "cell_type": "code",
      "execution_count": null,
      "metadata": {
        "id": "QVdIry-EnMTk"
      },
      "outputs": [],
      "source": [
        "generate_cryptarithmetic_essence(\"BASE+BALL=GAMES\", mode=\"all\", val=14938)"
      ]
    }
  ],
  "metadata": {
    "colab": {
      "collapsed_sections": [
        "Kg57FfimgefG"
      ],
      "provenance": [],
      "authorship_tag": "ABX9TyNY8UcgAihpXcGgIe7jVD8e",
      "include_colab_link": true
    },
    "kernelspec": {
      "display_name": "Python 3",
      "name": "python3"
    },
    "language_info": {
      "name": "python"
    }
  },
  "nbformat": 4,
  "nbformat_minor": 0
}