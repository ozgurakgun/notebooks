{
  "nbformat": 4,
  "nbformat_minor": 0,
  "metadata": {
    "colab": {
      "provenance": [],
      "authorship_tag": "ABX9TyNc5+7DErEuzy2PQlAfktDS",
      "include_colab_link": true
    },
    "kernelspec": {
      "name": "python3",
      "display_name": "Python 3"
    },
    "language_info": {
      "name": "python"
    }
  },
  "cells": [
    {
      "cell_type": "markdown",
      "metadata": {
        "id": "view-in-github",
        "colab_type": "text"
      },
      "source": [
        "<a href=\"https://colab.research.google.com/github/ozgurakgun/notebooks/blob/main/Alice%2BBob%2BCarol%3D50.ipynb\" target=\"_parent\"><img src=\"https://colab.research.google.com/assets/colab-badge.svg\" alt=\"Open In Colab\"/></a>"
      ]
    },
    {
      "cell_type": "markdown",
      "source": [
        "The example from https://pganalyze.com/blog/a-practical-introduction-to-constraint-programming-using-cp-sat"
      ],
      "metadata": {
        "id": "_2It4c4_eKki"
      }
    },
    {
      "cell_type": "code",
      "execution_count": 3,
      "metadata": {
        "colab": {
          "base_uri": "https://localhost:8080/",
          "height": 159
        },
        "id": "x0BtELt2Kdz0",
        "outputId": "e359bcb6-d02f-40c5-8e5b-3e197295ef7e"
      },
      "outputs": [
        {
          "output_type": "stream",
          "name": "stdout",
          "text": [
            "Installing Conjure version v2.5.1 and Conjure Notebook version v0.0.10...\n",
            "Downloading...\n",
            "Conjure: The Automated Constraint Modelling Tool\n",
            "Release version 2.5.1\n",
            "Repository version a9cbc2e (2023-11-07 23:44:00 +0000)\n"
          ]
        },
        {
          "output_type": "display_data",
          "data": {
            "text/plain": [
              "<IPython.core.display.Javascript object>"
            ],
            "application/javascript": [
              "\"use strict\";\n",
              "\n",
              "CodeMirror.defineMode(\"text/conjure\", function (config) {\n",
              "\n",
              "    var isOperatorChar = /[+\\-*=<>%^\\/]/;\n",
              "\n",
              "    var keywords = {\n",
              "        \"forall\": true,\n",
              "        \"allDifferent\": true,\n",
              "        \"allDiff\": true,\n",
              "        \"alldifferent_except\": true,\n",
              "        \"dim\": true,\n",
              "        \"toSet\": true,\n",
              "        \"toMSet\": true,\n",
              "        \"toRelation\": true,\n",
              "        \"maximising\": true,\n",
              "        \"minimising\": true,\n",
              "        \"forAll\": true,\n",
              "        \"exists\": true,\n",
              "        \"toInt\": true,\n",
              "        \"sum\": true,\n",
              "        \"be\": true,\n",
              "        \"bijective\": true,\n",
              "        \"bool\": true,\n",
              "        \"by\": true,\n",
              "        \"complete\": true,\n",
              "        \"defined\": true,\n",
              "        \"domain\": true,\n",
              "        \"in\": true,\n",
              "        \"or\": true,\n",
              "        \"and\": true,\n",
              "        \"false\": true,\n",
              "        \"find\": true,\n",
              "        \"from\": true,\n",
              "        \"function\": true,\n",
              "        \"given\": true,\n",
              "        \"image\": true,\n",
              "        \"indexed\": true,\n",
              "        \"injective\": true,\n",
              "        \"int\": true,\n",
              "        \"intersect\": true,\n",
              "        \"freq\": true,\n",
              "        \"lambda\": true,\n",
              "        \"language\": true,\n",
              "        \"letting\": true,\n",
              "        \"matrix\": true,\n",
              "        \"maxNumParts\": true,\n",
              "        \"maxOccur\": true,\n",
              "        \"maxPartSize\": true,\n",
              "        \"maxSize\": true,\n",
              "        \"minNumParts\": true,\n",
              "        \"minOccur\": true,\n",
              "        \"minPartSize\": true,\n",
              "        \"minSize\": true,\n",
              "        \"mset\": true,\n",
              "        \"numParts\": true,\n",
              "        \"of\": true,\n",
              "        \"partial\": true,\n",
              "        \"partition\": true,\n",
              "        \"partSize\": true,\n",
              "        \"preImage\": true,\n",
              "        \"quantifier\": true,\n",
              "        \"range\": true,\n",
              "        \"regular\": true,\n",
              "        \"relation\": true,\n",
              "        \"representation\": true,\n",
              "        \"set\": true,\n",
              "        \"size\": true,\n",
              "        \"subset\": true,\n",
              "        \"subsetEq\": true,\n",
              "        \"such\": true,\n",
              "        \"supset\": true,\n",
              "        \"supsetEq\": true,\n",
              "        \"surjective\": true,\n",
              "        \"that\": true,\n",
              "        \"together\": true,\n",
              "        \"enum\": true,\n",
              "        \"total\": true,\n",
              "        \"true\": true,\n",
              "        \"new\": true,\n",
              "        \"type\": true,\n",
              "        \"tuple\": true,\n",
              "        \"union\": true,\n",
              "        \"where\": true,\n",
              "        \"branching\": true,\n",
              "        \"on\": true\n",
              "    };  \n",
              "    var punc = \":;,.(){}[]\";\n",
              "\n",
              "    function tokenBase(stream, state) {\n",
              "        var ch = stream.next();\n",
              "        if (ch == '\"') {\n",
              "            state.tokenize.push(tokenString);\n",
              "            return tokenString(stream, state);\n",
              "        }\n",
              "        if (/[\\d\\.]/.test(ch)) {\n",
              "            if (ch == \".\") {\n",
              "                stream.match(/^[0-9]+([eE][\\-+]?[0-9]+)?/);\n",
              "            } else if (ch == \"0\") {\n",
              "                stream.match(/^[xX][0-9a-fA-F]+/) || stream.match(/^0[0-7]+/);\n",
              "            } else {\n",
              "                stream.match(/^[0-9]*\\.?[0-9]*([eE][\\-+]?[0-9]+)?/);\n",
              "            }\n",
              "            return \"number\";\n",
              "        }\n",
              "        if (ch == \"/\") {\n",
              "            if (stream.eat(\"*\")) {\n",
              "                state.tokenize.push(tokenComment);\n",
              "                return tokenComment(stream, state);\n",
              "            }\n",
              "        }\n",
              "        if (ch == \"$\") {\n",
              "            stream.skipToEnd();\n",
              "            return \"comment\";\n",
              "        }\n",
              "        if (isOperatorChar.test(ch)) {\n",
              "            stream.eatWhile(isOperatorChar);\n",
              "            return \"operator\";\n",
              "        }\n",
              "        if (punc.indexOf(ch) > -1) {\n",
              "            return \"punctuation\";\n",
              "        }\n",
              "        stream.eatWhile(/[\\w\\$_\\xa1-\\uffff]/);\n",
              "        var cur = stream.current();\n",
              "        \n",
              "        if (keywords.propertyIsEnumerable(cur)) {\n",
              "            return \"keyword\";\n",
              "        }\n",
              "        return \"variable\";\n",
              "    }\n",
              "\n",
              "    function tokenComment(stream, state) {\n",
              "        var maybeEnd = false, ch;\n",
              "        while (ch = stream.next()) {\n",
              "            if (ch == \"/\" && maybeEnd) {\n",
              "                state.tokenize.pop();\n",
              "                break;\n",
              "            }\n",
              "            maybeEnd = (ch == \"*\");\n",
              "        }\n",
              "        return \"comment\";\n",
              "    }\n",
              "\n",
              "    function tokenUntilClosingParen() {\n",
              "        var depth = 0;\n",
              "        return function (stream, state, prev) {\n",
              "            var inner = tokenBase(stream, state, prev);\n",
              "            console.log(\"untilClosing\", inner, stream.current());\n",
              "            if (inner == \"punctuation\") {\n",
              "                if (stream.current() == \"(\") {\n",
              "                    ++depth;\n",
              "                } else if (stream.current() == \")\") {\n",
              "                    if (depth == 0) {\n",
              "                        stream.backUp(1)\n",
              "                        state.tokenize.pop()\n",
              "                        return state.tokenize[state.tokenize.length - 1](stream, state)\n",
              "                    } else {\n",
              "                        --depth;\n",
              "                    }\n",
              "                }\n",
              "            }\n",
              "            return inner;\n",
              "        }\n",
              "    }\n",
              "\n",
              "    function tokenString(stream, state) {\n",
              "        var escaped = false, next, end = false;\n",
              "        while ((next = stream.next()) != null) {\n",
              "            if (next == '(' && escaped) {\n",
              "                state.tokenize.push(tokenUntilClosingParen());\n",
              "                return \"string\";\n",
              "            }\n",
              "            if (next == '\"' && !escaped) { end = true; break; }\n",
              "            escaped = !escaped && next == \"\\\\\";\n",
              "        }\n",
              "        if (end || !escaped)\n",
              "            state.tokenize.pop();\n",
              "        return \"string\";\n",
              "    }\n",
              "\n",
              "    return {\n",
              "        startState: function (basecolumn) {\n",
              "            return {\n",
              "                tokenize: []\n",
              "            };\n",
              "        },\n",
              "\n",
              "        token: function (stream, state) {\n",
              "            if (stream.eatSpace()) return null;\n",
              "            var style = (state.tokenize[state.tokenize.length - 1] || tokenBase)(stream, state);\n",
              "            console.log(\"token\", style);\n",
              "            return style;\n",
              "        },\n",
              "\n",
              "        blockCommentStart: \"/*\",\n",
              "        blockCommentEnd: \"*/\",\n",
              "        lineComment: \"$\"\n",
              "    };\n",
              "});\n",
              "\n",
              "\n",
              "CodeMirror.defineMIME(\"text/conjure\", \"text/conjure\");\n",
              "\n",
              "require(['notebook/js/codecell'], function (codecell) {\n",
              "    codecell.CodeCell.options_default.highlight_modes['magic_text/conjure'] = { 'reg': [/%?%conjure/] };\n",
              "    Jupyter.notebook.events.one('kernel_ready.Kernel', function () {\n",
              "        Jupyter.notebook.get_cells().map(function (cell) {\n",
              "            if (cell.cell_type == 'code') { cell.auto_highlight(); }\n",
              "        });\n",
              "    });\n",
              "});\n",
              "\n"
            ]
          },
          "metadata": {}
        },
        {
          "output_type": "display_data",
          "data": {
            "text/plain": [
              "<IPython.core.display.Markdown object>"
            ],
            "text/markdown": "Conjure extension is loaded - run `%conjure_help`"
          },
          "metadata": {}
        }
      ],
      "source": [
        "!source <(curl -s https://raw.githubusercontent.com/conjure-cp/conjure-notebook/v0.0.10/scripts/install-colab.sh)\n",
        "%reload_ext conjure"
      ]
    },
    {
      "cell_type": "code",
      "source": [
        "%%conjure --solver-options=-randomiseorder --solver=minion\n",
        "\n",
        "find a,b,c : int(0..20)"
      ],
      "metadata": {
        "colab": {
          "base_uri": "https://localhost:8080/",
          "height": 400
        },
        "id": "KYU6SyzoKkO7",
        "outputId": "b282f35a-e3b9-472f-c4ad-a54a3a01b20c"
      },
      "execution_count": 4,
      "outputs": [
        {
          "output_type": "display_data",
          "data": {
            "text/plain": [
              "<IPython.core.display.Markdown object>"
            ],
            "text/markdown": "```json\n{\"a\": 4, \"b\": 7, \"c\": 14}\n```"
          },
          "metadata": {}
        },
        {
          "output_type": "display_data",
          "data": {
            "text/plain": [
              "<IPython.core.display.Markdown object>"
            ],
            "text/markdown": "| Statistic | Value |\n|:-|-:|\n| SolverTotalTime | 0.067468 |\n| SavileRowClauseOut | 0 |\n| SolverSolveTime | 0.067471 |\n| SavileRowTotalTime | 0.179 |\n| SolverSatisfiable | 1 |\n| SavileRowTimeOut | 0 |\n| SolverNodes | 4 |\n| SolverTimeOut | 0 |\n| SolverSolutionsFound | 1 |\n| SolverSetupTime | 0 |\n"
          },
          "metadata": {}
        }
      ]
    },
    {
      "cell_type": "code",
      "source": [
        "%%conjure+ --solver=minion\n",
        "\n",
        "such that a + b + c = 50"
      ],
      "metadata": {
        "colab": {
          "base_uri": "https://localhost:8080/",
          "height": 400
        },
        "id": "BwmRQ0uTK7vG",
        "outputId": "d51086d9-f41e-4d69-968b-87a002b24da8"
      },
      "execution_count": 5,
      "outputs": [
        {
          "output_type": "display_data",
          "data": {
            "text/plain": [
              "<IPython.core.display.Markdown object>"
            ],
            "text/markdown": "```json\n{\"a\": 10, \"b\": 20, \"c\": 20}\n```"
          },
          "metadata": {}
        },
        {
          "output_type": "display_data",
          "data": {
            "text/plain": [
              "<IPython.core.display.Markdown object>"
            ],
            "text/markdown": "| Statistic | Value |\n|:-|-:|\n| SolverTotalTime | 0.061701 |\n| SavileRowClauseOut | 0 |\n| SolverSolveTime | 0.061437 |\n| SavileRowTotalTime | 0.13 |\n| SolverSatisfiable | 1 |\n| SavileRowTimeOut | 0 |\n| SolverNodes | 2 |\n| SolverTimeOut | 0 |\n| SolverSolutionsFound | 1 |\n| SolverSetupTime | 0.000227 |\n"
          },
          "metadata": {}
        }
      ]
    },
    {
      "cell_type": "code",
      "source": [
        "%%conjure+ --solver=kissat\n",
        "\n",
        "such that a >= b"
      ],
      "metadata": {
        "colab": {
          "base_uri": "https://localhost:8080/",
          "height": 400
        },
        "id": "S2dU-2EuLHr5",
        "outputId": "baac4d0c-118d-47cd-f562-348213200c6c"
      },
      "execution_count": 6,
      "outputs": [
        {
          "output_type": "display_data",
          "data": {
            "text/plain": [
              "<IPython.core.display.Markdown object>"
            ],
            "text/markdown": "```json\n{\"a\": 20, \"b\": 20, \"c\": 10}\n```"
          },
          "metadata": {}
        },
        {
          "output_type": "display_data",
          "data": {
            "text/plain": [
              "<IPython.core.display.Markdown object>"
            ],
            "text/markdown": "| Statistic | Value |\n|:-|-:|\n| SolverMemOut | 0 |\n| SolverTotalTime | 0.00 |\n| SATClauses | 137 |\n| SavileRowClauseOut | 0 |\n| SavileRowTotalTime | 0.121 |\n| SolverSatisfiable | 1 |\n| SavileRowTimeOut | 0 |\n| SolverTimeOut | 0 |\n| SolverNodes | 10 |\n| SATVars | 25 |\n"
          },
          "metadata": {}
        }
      ]
    },
    {
      "cell_type": "code",
      "source": [
        "%%conjure+\n",
        "\n",
        "such that c % 5 = 0\n",
        "such that allDiff([a,b,c])"
      ],
      "metadata": {
        "colab": {
          "base_uri": "https://localhost:8080/",
          "height": 337
        },
        "id": "BEzR65dWLX69",
        "outputId": "daec7104-7a34-4ecd-8320-99a152ec1d8c"
      },
      "execution_count": 7,
      "outputs": [
        {
          "output_type": "display_data",
          "data": {
            "text/plain": [
              "<IPython.core.display.Markdown object>"
            ],
            "text/markdown": "```json\n{\"a\": 16, \"b\": 14, \"c\": 20}\n```"
          },
          "metadata": {}
        },
        {
          "output_type": "display_data",
          "data": {
            "text/plain": [
              "<IPython.core.display.Markdown object>"
            ],
            "text/markdown": "| Statistic | Value |\n|:-|-:|\n| SolverTotalTime | 0.001 |\n| SavileRowClauseOut | 0 |\n| SavileRowTotalTime | 0.079 |\n| SolverFailures | 0 |\n| SolverSatisfiable | 1 |\n| SavileRowTimeOut | 0 |\n| SolverTimeOut | 0 |\n| SolverNodes | 2 |\n"
          },
          "metadata": {}
        }
      ]
    },
    {
      "cell_type": "code",
      "source": [
        "%%conjure+ --number-of-solutions=all\n",
        "\n",
        "find x : int(0..20)\n",
        "such that x = max([a,b,c])\n",
        "\n",
        "such that x = 18\n",
        "\n",
        "$ minimising x"
      ],
      "metadata": {
        "colab": {
          "base_uri": "https://localhost:8080/",
          "height": 337
        },
        "id": "xOK6BxdqMIp-",
        "outputId": "e2cfd674-a954-46b8-afe4-0e88194794df"
      },
      "execution_count": 8,
      "outputs": [
        {
          "output_type": "display_data",
          "data": {
            "text/plain": [
              "<IPython.core.display.Markdown object>"
            ],
            "text/markdown": "```json\n{\"a\": 18, \"b\": 17, \"c\": 15, \"x\": 18}\n```"
          },
          "metadata": {}
        },
        {
          "output_type": "display_data",
          "data": {
            "text/plain": [
              "<IPython.core.display.Markdown object>"
            ],
            "text/markdown": "| Statistic | Value |\n|:-|-:|\n| SolverTotalTime | 0.000 |\n| SavileRowClauseOut | 0 |\n| SavileRowTotalTime | 0.103 |\n| SolverFailures | 1 |\n| SolverSatisfiable | 1 |\n| SavileRowTimeOut | 0 |\n| SolverTimeOut | 0 |\n| SolverNodes | 1 |\n"
          },
          "metadata": {}
        }
      ]
    },
    {
      "cell_type": "code",
      "source": [
        "for a in range(0, 21):\n",
        "    for b in range(0, 21):\n",
        "        for c in range(0, 21):\n",
        "            if a + b + c == 50 and a >= b and c % 5 == 0 and a != b and b != c and a != c:\n",
        "                x = max([a,b,c])\n",
        "                print(a,b,c,x)"
      ],
      "metadata": {
        "colab": {
          "base_uri": "https://localhost:8080/"
        },
        "id": "4limKq7QPA67",
        "outputId": "fb7c79aa-4792-4816-d1f9-c57a2a2da907"
      },
      "execution_count": 9,
      "outputs": [
        {
          "output_type": "stream",
          "name": "stdout",
          "text": [
            "16 14 20 20\n",
            "17 13 20 20\n",
            "18 12 20 20\n",
            "18 17 15 18\n",
            "19 11 20 20\n",
            "19 16 15 19\n"
          ]
        }
      ]
    }
  ]
}