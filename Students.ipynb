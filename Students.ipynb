{
  "cells": [
    {
      "cell_type": "markdown",
      "metadata": {
        "id": "view-in-github",
        "colab_type": "text"
      },
      "source": [
        "<a href=\"https://colab.research.google.com/github/ozgurakgun/notebooks/blob/main/Students.ipynb\" target=\"_parent\"><img src=\"https://colab.research.google.com/assets/colab-badge.svg\" alt=\"Open In Colab\"/></a>"
      ]
    },
    {
      "cell_type": "code",
      "source": [
        "!source <(curl -s https://raw.githubusercontent.com/conjure-cp/conjure-notebook/v0.0.10/scripts/install-colab.sh)\n",
        "%reload_ext conjure"
      ],
      "metadata": {
        "colab": {
          "base_uri": "https://localhost:8080/",
          "height": 158
        },
        "id": "1yIlmLtLlwo_",
        "outputId": "cbb8ac6d-d0aa-47a5-a27b-2e30be0a7a22"
      },
      "execution_count": 2,
      "outputs": [
        {
          "output_type": "stream",
          "name": "stdout",
          "text": [
            "Installing Conjure version v2.5.1 and Conjure Notebook version v0.0.10...\n",
            "Conjure is already installed.\n",
            "Conjure notebook is already installed.\n",
            "Conjure: The Automated Constraint Modelling Tool\n",
            "Release version 2.5.1\n",
            "Repository version a9cbc2e (2023-11-07 23:44:00 +0000)\n"
          ]
        },
        {
          "output_type": "display_data",
          "data": {
            "text/plain": [
              "<IPython.core.display.Javascript object>"
            ],
            "application/javascript": [
              "\"use strict\";\n",
              "\n",
              "CodeMirror.defineMode(\"text/conjure\", function (config) {\n",
              "\n",
              "    var isOperatorChar = /[+\\-*=<>%^\\/]/;\n",
              "\n",
              "    var keywords = {\n",
              "        \"forall\": true,\n",
              "        \"allDifferent\": true,\n",
              "        \"allDiff\": true,\n",
              "        \"alldifferent_except\": true,\n",
              "        \"dim\": true,\n",
              "        \"toSet\": true,\n",
              "        \"toMSet\": true,\n",
              "        \"toRelation\": true,\n",
              "        \"maximising\": true,\n",
              "        \"minimising\": true,\n",
              "        \"forAll\": true,\n",
              "        \"exists\": true,\n",
              "        \"toInt\": true,\n",
              "        \"sum\": true,\n",
              "        \"be\": true,\n",
              "        \"bijective\": true,\n",
              "        \"bool\": true,\n",
              "        \"by\": true,\n",
              "        \"complete\": true,\n",
              "        \"defined\": true,\n",
              "        \"domain\": true,\n",
              "        \"in\": true,\n",
              "        \"or\": true,\n",
              "        \"and\": true,\n",
              "        \"false\": true,\n",
              "        \"find\": true,\n",
              "        \"from\": true,\n",
              "        \"function\": true,\n",
              "        \"given\": true,\n",
              "        \"image\": true,\n",
              "        \"indexed\": true,\n",
              "        \"injective\": true,\n",
              "        \"int\": true,\n",
              "        \"intersect\": true,\n",
              "        \"freq\": true,\n",
              "        \"lambda\": true,\n",
              "        \"language\": true,\n",
              "        \"letting\": true,\n",
              "        \"matrix\": true,\n",
              "        \"maxNumParts\": true,\n",
              "        \"maxOccur\": true,\n",
              "        \"maxPartSize\": true,\n",
              "        \"maxSize\": true,\n",
              "        \"minNumParts\": true,\n",
              "        \"minOccur\": true,\n",
              "        \"minPartSize\": true,\n",
              "        \"minSize\": true,\n",
              "        \"mset\": true,\n",
              "        \"numParts\": true,\n",
              "        \"of\": true,\n",
              "        \"partial\": true,\n",
              "        \"partition\": true,\n",
              "        \"partSize\": true,\n",
              "        \"preImage\": true,\n",
              "        \"quantifier\": true,\n",
              "        \"range\": true,\n",
              "        \"regular\": true,\n",
              "        \"relation\": true,\n",
              "        \"representation\": true,\n",
              "        \"set\": true,\n",
              "        \"size\": true,\n",
              "        \"subset\": true,\n",
              "        \"subsetEq\": true,\n",
              "        \"such\": true,\n",
              "        \"supset\": true,\n",
              "        \"supsetEq\": true,\n",
              "        \"surjective\": true,\n",
              "        \"that\": true,\n",
              "        \"together\": true,\n",
              "        \"enum\": true,\n",
              "        \"total\": true,\n",
              "        \"true\": true,\n",
              "        \"new\": true,\n",
              "        \"type\": true,\n",
              "        \"tuple\": true,\n",
              "        \"union\": true,\n",
              "        \"where\": true,\n",
              "        \"branching\": true,\n",
              "        \"on\": true\n",
              "    };  \n",
              "    var punc = \":;,.(){}[]\";\n",
              "\n",
              "    function tokenBase(stream, state) {\n",
              "        var ch = stream.next();\n",
              "        if (ch == '\"') {\n",
              "            state.tokenize.push(tokenString);\n",
              "            return tokenString(stream, state);\n",
              "        }\n",
              "        if (/[\\d\\.]/.test(ch)) {\n",
              "            if (ch == \".\") {\n",
              "                stream.match(/^[0-9]+([eE][\\-+]?[0-9]+)?/);\n",
              "            } else if (ch == \"0\") {\n",
              "                stream.match(/^[xX][0-9a-fA-F]+/) || stream.match(/^0[0-7]+/);\n",
              "            } else {\n",
              "                stream.match(/^[0-9]*\\.?[0-9]*([eE][\\-+]?[0-9]+)?/);\n",
              "            }\n",
              "            return \"number\";\n",
              "        }\n",
              "        if (ch == \"/\") {\n",
              "            if (stream.eat(\"*\")) {\n",
              "                state.tokenize.push(tokenComment);\n",
              "                return tokenComment(stream, state);\n",
              "            }\n",
              "        }\n",
              "        if (ch == \"$\") {\n",
              "            stream.skipToEnd();\n",
              "            return \"comment\";\n",
              "        }\n",
              "        if (isOperatorChar.test(ch)) {\n",
              "            stream.eatWhile(isOperatorChar);\n",
              "            return \"operator\";\n",
              "        }\n",
              "        if (punc.indexOf(ch) > -1) {\n",
              "            return \"punctuation\";\n",
              "        }\n",
              "        stream.eatWhile(/[\\w\\$_\\xa1-\\uffff]/);\n",
              "        var cur = stream.current();\n",
              "        \n",
              "        if (keywords.propertyIsEnumerable(cur)) {\n",
              "            return \"keyword\";\n",
              "        }\n",
              "        return \"variable\";\n",
              "    }\n",
              "\n",
              "    function tokenComment(stream, state) {\n",
              "        var maybeEnd = false, ch;\n",
              "        while (ch = stream.next()) {\n",
              "            if (ch == \"/\" && maybeEnd) {\n",
              "                state.tokenize.pop();\n",
              "                break;\n",
              "            }\n",
              "            maybeEnd = (ch == \"*\");\n",
              "        }\n",
              "        return \"comment\";\n",
              "    }\n",
              "\n",
              "    function tokenUntilClosingParen() {\n",
              "        var depth = 0;\n",
              "        return function (stream, state, prev) {\n",
              "            var inner = tokenBase(stream, state, prev);\n",
              "            console.log(\"untilClosing\", inner, stream.current());\n",
              "            if (inner == \"punctuation\") {\n",
              "                if (stream.current() == \"(\") {\n",
              "                    ++depth;\n",
              "                } else if (stream.current() == \")\") {\n",
              "                    if (depth == 0) {\n",
              "                        stream.backUp(1)\n",
              "                        state.tokenize.pop()\n",
              "                        return state.tokenize[state.tokenize.length - 1](stream, state)\n",
              "                    } else {\n",
              "                        --depth;\n",
              "                    }\n",
              "                }\n",
              "            }\n",
              "            return inner;\n",
              "        }\n",
              "    }\n",
              "\n",
              "    function tokenString(stream, state) {\n",
              "        var escaped = false, next, end = false;\n",
              "        while ((next = stream.next()) != null) {\n",
              "            if (next == '(' && escaped) {\n",
              "                state.tokenize.push(tokenUntilClosingParen());\n",
              "                return \"string\";\n",
              "            }\n",
              "            if (next == '\"' && !escaped) { end = true; break; }\n",
              "            escaped = !escaped && next == \"\\\\\";\n",
              "        }\n",
              "        if (end || !escaped)\n",
              "            state.tokenize.pop();\n",
              "        return \"string\";\n",
              "    }\n",
              "\n",
              "    return {\n",
              "        startState: function (basecolumn) {\n",
              "            return {\n",
              "                tokenize: []\n",
              "            };\n",
              "        },\n",
              "\n",
              "        token: function (stream, state) {\n",
              "            if (stream.eatSpace()) return null;\n",
              "            var style = (state.tokenize[state.tokenize.length - 1] || tokenBase)(stream, state);\n",
              "            console.log(\"token\", style);\n",
              "            return style;\n",
              "        },\n",
              "\n",
              "        blockCommentStart: \"/*\",\n",
              "        blockCommentEnd: \"*/\",\n",
              "        lineComment: \"$\"\n",
              "    };\n",
              "});\n",
              "\n",
              "\n",
              "CodeMirror.defineMIME(\"text/conjure\", \"text/conjure\");\n",
              "\n",
              "require(['notebook/js/codecell'], function (codecell) {\n",
              "    codecell.CodeCell.options_default.highlight_modes['magic_text/conjure'] = { 'reg': [/%?%conjure/] };\n",
              "    Jupyter.notebook.events.one('kernel_ready.Kernel', function () {\n",
              "        Jupyter.notebook.get_cells().map(function (cell) {\n",
              "            if (cell.cell_type == 'code') { cell.auto_highlight(); }\n",
              "        });\n",
              "    });\n",
              "});\n",
              "\n"
            ]
          },
          "metadata": {}
        },
        {
          "output_type": "display_data",
          "data": {
            "text/plain": [
              "<IPython.core.display.Markdown object>"
            ],
            "text/markdown": "Conjure extension is loaded - run `%conjure_help`"
          },
          "metadata": {}
        }
      ]
    },
    {
      "cell_type": "code",
      "execution_count": 3,
      "metadata": {
        "id": "bOwRGxtMlO-A"
      },
      "outputs": [],
      "source": [
        "%pip install --quiet pandas openpyxl"
      ]
    },
    {
      "cell_type": "markdown",
      "metadata": {
        "id": "jkF7KJgPlO-C"
      },
      "source": [
        "Now we can read in data from an Excel file, using pandas."
      ]
    },
    {
      "cell_type": "code",
      "execution_count": 4,
      "metadata": {
        "id": "gbVZf73mlO-D"
      },
      "outputs": [],
      "source": [
        "import pandas\n",
        "data = pandas.read_excel('Students.xlsx', sheet_name=None)"
      ]
    },
    {
      "cell_type": "markdown",
      "metadata": {
        "id": "NCF0eyjolO-D"
      },
      "source": [
        "The file has two worksheets in it, one with student information."
      ]
    },
    {
      "cell_type": "code",
      "execution_count": 5,
      "metadata": {
        "colab": {
          "base_uri": "https://localhost:8080/",
          "height": 802
        },
        "id": "CS9VaooQlO-E",
        "outputId": "da8581a0-67a9-4c44-daea-d15460e23714"
      },
      "outputs": [
        {
          "output_type": "execute_result",
          "data": {
            "text/plain": [
              "    Student ID First Name Last Name  GPA  Major\n",
              "0            1       Emma   Johnson  3.8     CS\n",
              "1            2       Liam     Smith  3.5     CS\n",
              "2            3     Olivia  Williams  3.9     CS\n",
              "3            4       Noah     Jones  3.7  Maths\n",
              "4            5        Ava     Brown  3.2     CS\n",
              "5            6   Isabella     Davis  3.6     CS\n",
              "6            7     Sophia    Miller  2.9     CS\n",
              "7            8        Mia    Wilson  3.3  Maths\n",
              "8            9     Harper     Moore  3.1     CS\n",
              "9           10   Benjamin    Taylor  3.8  Maths\n",
              "10          11     Elijah  Anderson  3.9     CS\n",
              "11          12     Oliver    Thomas  2.7  Maths\n",
              "12          13   Mei Ling      Chen  3.7     CS\n",
              "13          14      Aarav     Patel  3.6     CS\n",
              "14          15      Layla    Rahman  3.2     CS\n",
              "15          16    Michael    Martin  2.9  Maths\n",
              "16          17      Emily  Thompson  3.3     CS\n",
              "17          18       Zara     Abbas  2.6     CS\n",
              "18          19  Alexander  Martinez  3.8     CS\n",
              "19          20      Aarav    Sharma  3.9  Maths\n",
              "20          21     Daniel     Clark  2.8     CS\n",
              "21          22       Jing      Wang  3.7     CS\n",
              "22          23     Fatima       Ali  3.6  Maths\n",
              "23          24      Ahmed    Khalid  3.2     CS"
            ],
            "text/html": [
              "\n",
              "  <div id=\"df-dcad6f01-d9ce-4108-a571-d94ff628e9f5\" class=\"colab-df-container\">\n",
              "    <div>\n",
              "<style scoped>\n",
              "    .dataframe tbody tr th:only-of-type {\n",
              "        vertical-align: middle;\n",
              "    }\n",
              "\n",
              "    .dataframe tbody tr th {\n",
              "        vertical-align: top;\n",
              "    }\n",
              "\n",
              "    .dataframe thead th {\n",
              "        text-align: right;\n",
              "    }\n",
              "</style>\n",
              "<table border=\"1\" class=\"dataframe\">\n",
              "  <thead>\n",
              "    <tr style=\"text-align: right;\">\n",
              "      <th></th>\n",
              "      <th>Student ID</th>\n",
              "      <th>First Name</th>\n",
              "      <th>Last Name</th>\n",
              "      <th>GPA</th>\n",
              "      <th>Major</th>\n",
              "    </tr>\n",
              "  </thead>\n",
              "  <tbody>\n",
              "    <tr>\n",
              "      <th>0</th>\n",
              "      <td>1</td>\n",
              "      <td>Emma</td>\n",
              "      <td>Johnson</td>\n",
              "      <td>3.8</td>\n",
              "      <td>CS</td>\n",
              "    </tr>\n",
              "    <tr>\n",
              "      <th>1</th>\n",
              "      <td>2</td>\n",
              "      <td>Liam</td>\n",
              "      <td>Smith</td>\n",
              "      <td>3.5</td>\n",
              "      <td>CS</td>\n",
              "    </tr>\n",
              "    <tr>\n",
              "      <th>2</th>\n",
              "      <td>3</td>\n",
              "      <td>Olivia</td>\n",
              "      <td>Williams</td>\n",
              "      <td>3.9</td>\n",
              "      <td>CS</td>\n",
              "    </tr>\n",
              "    <tr>\n",
              "      <th>3</th>\n",
              "      <td>4</td>\n",
              "      <td>Noah</td>\n",
              "      <td>Jones</td>\n",
              "      <td>3.7</td>\n",
              "      <td>Maths</td>\n",
              "    </tr>\n",
              "    <tr>\n",
              "      <th>4</th>\n",
              "      <td>5</td>\n",
              "      <td>Ava</td>\n",
              "      <td>Brown</td>\n",
              "      <td>3.2</td>\n",
              "      <td>CS</td>\n",
              "    </tr>\n",
              "    <tr>\n",
              "      <th>5</th>\n",
              "      <td>6</td>\n",
              "      <td>Isabella</td>\n",
              "      <td>Davis</td>\n",
              "      <td>3.6</td>\n",
              "      <td>CS</td>\n",
              "    </tr>\n",
              "    <tr>\n",
              "      <th>6</th>\n",
              "      <td>7</td>\n",
              "      <td>Sophia</td>\n",
              "      <td>Miller</td>\n",
              "      <td>2.9</td>\n",
              "      <td>CS</td>\n",
              "    </tr>\n",
              "    <tr>\n",
              "      <th>7</th>\n",
              "      <td>8</td>\n",
              "      <td>Mia</td>\n",
              "      <td>Wilson</td>\n",
              "      <td>3.3</td>\n",
              "      <td>Maths</td>\n",
              "    </tr>\n",
              "    <tr>\n",
              "      <th>8</th>\n",
              "      <td>9</td>\n",
              "      <td>Harper</td>\n",
              "      <td>Moore</td>\n",
              "      <td>3.1</td>\n",
              "      <td>CS</td>\n",
              "    </tr>\n",
              "    <tr>\n",
              "      <th>9</th>\n",
              "      <td>10</td>\n",
              "      <td>Benjamin</td>\n",
              "      <td>Taylor</td>\n",
              "      <td>3.8</td>\n",
              "      <td>Maths</td>\n",
              "    </tr>\n",
              "    <tr>\n",
              "      <th>10</th>\n",
              "      <td>11</td>\n",
              "      <td>Elijah</td>\n",
              "      <td>Anderson</td>\n",
              "      <td>3.9</td>\n",
              "      <td>CS</td>\n",
              "    </tr>\n",
              "    <tr>\n",
              "      <th>11</th>\n",
              "      <td>12</td>\n",
              "      <td>Oliver</td>\n",
              "      <td>Thomas</td>\n",
              "      <td>2.7</td>\n",
              "      <td>Maths</td>\n",
              "    </tr>\n",
              "    <tr>\n",
              "      <th>12</th>\n",
              "      <td>13</td>\n",
              "      <td>Mei Ling</td>\n",
              "      <td>Chen</td>\n",
              "      <td>3.7</td>\n",
              "      <td>CS</td>\n",
              "    </tr>\n",
              "    <tr>\n",
              "      <th>13</th>\n",
              "      <td>14</td>\n",
              "      <td>Aarav</td>\n",
              "      <td>Patel</td>\n",
              "      <td>3.6</td>\n",
              "      <td>CS</td>\n",
              "    </tr>\n",
              "    <tr>\n",
              "      <th>14</th>\n",
              "      <td>15</td>\n",
              "      <td>Layla</td>\n",
              "      <td>Rahman</td>\n",
              "      <td>3.2</td>\n",
              "      <td>CS</td>\n",
              "    </tr>\n",
              "    <tr>\n",
              "      <th>15</th>\n",
              "      <td>16</td>\n",
              "      <td>Michael</td>\n",
              "      <td>Martin</td>\n",
              "      <td>2.9</td>\n",
              "      <td>Maths</td>\n",
              "    </tr>\n",
              "    <tr>\n",
              "      <th>16</th>\n",
              "      <td>17</td>\n",
              "      <td>Emily</td>\n",
              "      <td>Thompson</td>\n",
              "      <td>3.3</td>\n",
              "      <td>CS</td>\n",
              "    </tr>\n",
              "    <tr>\n",
              "      <th>17</th>\n",
              "      <td>18</td>\n",
              "      <td>Zara</td>\n",
              "      <td>Abbas</td>\n",
              "      <td>2.6</td>\n",
              "      <td>CS</td>\n",
              "    </tr>\n",
              "    <tr>\n",
              "      <th>18</th>\n",
              "      <td>19</td>\n",
              "      <td>Alexander</td>\n",
              "      <td>Martinez</td>\n",
              "      <td>3.8</td>\n",
              "      <td>CS</td>\n",
              "    </tr>\n",
              "    <tr>\n",
              "      <th>19</th>\n",
              "      <td>20</td>\n",
              "      <td>Aarav</td>\n",
              "      <td>Sharma</td>\n",
              "      <td>3.9</td>\n",
              "      <td>Maths</td>\n",
              "    </tr>\n",
              "    <tr>\n",
              "      <th>20</th>\n",
              "      <td>21</td>\n",
              "      <td>Daniel</td>\n",
              "      <td>Clark</td>\n",
              "      <td>2.8</td>\n",
              "      <td>CS</td>\n",
              "    </tr>\n",
              "    <tr>\n",
              "      <th>21</th>\n",
              "      <td>22</td>\n",
              "      <td>Jing</td>\n",
              "      <td>Wang</td>\n",
              "      <td>3.7</td>\n",
              "      <td>CS</td>\n",
              "    </tr>\n",
              "    <tr>\n",
              "      <th>22</th>\n",
              "      <td>23</td>\n",
              "      <td>Fatima</td>\n",
              "      <td>Ali</td>\n",
              "      <td>3.6</td>\n",
              "      <td>Maths</td>\n",
              "    </tr>\n",
              "    <tr>\n",
              "      <th>23</th>\n",
              "      <td>24</td>\n",
              "      <td>Ahmed</td>\n",
              "      <td>Khalid</td>\n",
              "      <td>3.2</td>\n",
              "      <td>CS</td>\n",
              "    </tr>\n",
              "  </tbody>\n",
              "</table>\n",
              "</div>\n",
              "    <div class=\"colab-df-buttons\">\n",
              "\n",
              "  <div class=\"colab-df-container\">\n",
              "    <button class=\"colab-df-convert\" onclick=\"convertToInteractive('df-dcad6f01-d9ce-4108-a571-d94ff628e9f5')\"\n",
              "            title=\"Convert this dataframe to an interactive table.\"\n",
              "            style=\"display:none;\">\n",
              "\n",
              "  <svg xmlns=\"http://www.w3.org/2000/svg\" height=\"24px\" viewBox=\"0 -960 960 960\">\n",
              "    <path d=\"M120-120v-720h720v720H120Zm60-500h600v-160H180v160Zm220 220h160v-160H400v160Zm0 220h160v-160H400v160ZM180-400h160v-160H180v160Zm440 0h160v-160H620v160ZM180-180h160v-160H180v160Zm440 0h160v-160H620v160Z\"/>\n",
              "  </svg>\n",
              "    </button>\n",
              "\n",
              "  <style>\n",
              "    .colab-df-container {\n",
              "      display:flex;\n",
              "      gap: 12px;\n",
              "    }\n",
              "\n",
              "    .colab-df-convert {\n",
              "      background-color: #E8F0FE;\n",
              "      border: none;\n",
              "      border-radius: 50%;\n",
              "      cursor: pointer;\n",
              "      display: none;\n",
              "      fill: #1967D2;\n",
              "      height: 32px;\n",
              "      padding: 0 0 0 0;\n",
              "      width: 32px;\n",
              "    }\n",
              "\n",
              "    .colab-df-convert:hover {\n",
              "      background-color: #E2EBFA;\n",
              "      box-shadow: 0px 1px 2px rgba(60, 64, 67, 0.3), 0px 1px 3px 1px rgba(60, 64, 67, 0.15);\n",
              "      fill: #174EA6;\n",
              "    }\n",
              "\n",
              "    .colab-df-buttons div {\n",
              "      margin-bottom: 4px;\n",
              "    }\n",
              "\n",
              "    [theme=dark] .colab-df-convert {\n",
              "      background-color: #3B4455;\n",
              "      fill: #D2E3FC;\n",
              "    }\n",
              "\n",
              "    [theme=dark] .colab-df-convert:hover {\n",
              "      background-color: #434B5C;\n",
              "      box-shadow: 0px 1px 3px 1px rgba(0, 0, 0, 0.15);\n",
              "      filter: drop-shadow(0px 1px 2px rgba(0, 0, 0, 0.3));\n",
              "      fill: #FFFFFF;\n",
              "    }\n",
              "  </style>\n",
              "\n",
              "    <script>\n",
              "      const buttonEl =\n",
              "        document.querySelector('#df-dcad6f01-d9ce-4108-a571-d94ff628e9f5 button.colab-df-convert');\n",
              "      buttonEl.style.display =\n",
              "        google.colab.kernel.accessAllowed ? 'block' : 'none';\n",
              "\n",
              "      async function convertToInteractive(key) {\n",
              "        const element = document.querySelector('#df-dcad6f01-d9ce-4108-a571-d94ff628e9f5');\n",
              "        const dataTable =\n",
              "          await google.colab.kernel.invokeFunction('convertToInteractive',\n",
              "                                                    [key], {});\n",
              "        if (!dataTable) return;\n",
              "\n",
              "        const docLinkHtml = 'Like what you see? Visit the ' +\n",
              "          '<a target=\"_blank\" href=https://colab.research.google.com/notebooks/data_table.ipynb>data table notebook</a>'\n",
              "          + ' to learn more about interactive tables.';\n",
              "        element.innerHTML = '';\n",
              "        dataTable['output_type'] = 'display_data';\n",
              "        await google.colab.output.renderOutput(dataTable, element);\n",
              "        const docLink = document.createElement('div');\n",
              "        docLink.innerHTML = docLinkHtml;\n",
              "        element.appendChild(docLink);\n",
              "      }\n",
              "    </script>\n",
              "  </div>\n",
              "\n",
              "\n",
              "<div id=\"df-f23345d9-00eb-45e0-ab89-98242c66ec52\">\n",
              "  <button class=\"colab-df-quickchart\" onclick=\"quickchart('df-f23345d9-00eb-45e0-ab89-98242c66ec52')\"\n",
              "            title=\"Suggest charts\"\n",
              "            style=\"display:none;\">\n",
              "\n",
              "<svg xmlns=\"http://www.w3.org/2000/svg\" height=\"24px\"viewBox=\"0 0 24 24\"\n",
              "     width=\"24px\">\n",
              "    <g>\n",
              "        <path d=\"M19 3H5c-1.1 0-2 .9-2 2v14c0 1.1.9 2 2 2h14c1.1 0 2-.9 2-2V5c0-1.1-.9-2-2-2zM9 17H7v-7h2v7zm4 0h-2V7h2v10zm4 0h-2v-4h2v4z\"/>\n",
              "    </g>\n",
              "</svg>\n",
              "  </button>\n",
              "\n",
              "<style>\n",
              "  .colab-df-quickchart {\n",
              "      --bg-color: #E8F0FE;\n",
              "      --fill-color: #1967D2;\n",
              "      --hover-bg-color: #E2EBFA;\n",
              "      --hover-fill-color: #174EA6;\n",
              "      --disabled-fill-color: #AAA;\n",
              "      --disabled-bg-color: #DDD;\n",
              "  }\n",
              "\n",
              "  [theme=dark] .colab-df-quickchart {\n",
              "      --bg-color: #3B4455;\n",
              "      --fill-color: #D2E3FC;\n",
              "      --hover-bg-color: #434B5C;\n",
              "      --hover-fill-color: #FFFFFF;\n",
              "      --disabled-bg-color: #3B4455;\n",
              "      --disabled-fill-color: #666;\n",
              "  }\n",
              "\n",
              "  .colab-df-quickchart {\n",
              "    background-color: var(--bg-color);\n",
              "    border: none;\n",
              "    border-radius: 50%;\n",
              "    cursor: pointer;\n",
              "    display: none;\n",
              "    fill: var(--fill-color);\n",
              "    height: 32px;\n",
              "    padding: 0;\n",
              "    width: 32px;\n",
              "  }\n",
              "\n",
              "  .colab-df-quickchart:hover {\n",
              "    background-color: var(--hover-bg-color);\n",
              "    box-shadow: 0 1px 2px rgba(60, 64, 67, 0.3), 0 1px 3px 1px rgba(60, 64, 67, 0.15);\n",
              "    fill: var(--button-hover-fill-color);\n",
              "  }\n",
              "\n",
              "  .colab-df-quickchart-complete:disabled,\n",
              "  .colab-df-quickchart-complete:disabled:hover {\n",
              "    background-color: var(--disabled-bg-color);\n",
              "    fill: var(--disabled-fill-color);\n",
              "    box-shadow: none;\n",
              "  }\n",
              "\n",
              "  .colab-df-spinner {\n",
              "    border: 2px solid var(--fill-color);\n",
              "    border-color: transparent;\n",
              "    border-bottom-color: var(--fill-color);\n",
              "    animation:\n",
              "      spin 1s steps(1) infinite;\n",
              "  }\n",
              "\n",
              "  @keyframes spin {\n",
              "    0% {\n",
              "      border-color: transparent;\n",
              "      border-bottom-color: var(--fill-color);\n",
              "      border-left-color: var(--fill-color);\n",
              "    }\n",
              "    20% {\n",
              "      border-color: transparent;\n",
              "      border-left-color: var(--fill-color);\n",
              "      border-top-color: var(--fill-color);\n",
              "    }\n",
              "    30% {\n",
              "      border-color: transparent;\n",
              "      border-left-color: var(--fill-color);\n",
              "      border-top-color: var(--fill-color);\n",
              "      border-right-color: var(--fill-color);\n",
              "    }\n",
              "    40% {\n",
              "      border-color: transparent;\n",
              "      border-right-color: var(--fill-color);\n",
              "      border-top-color: var(--fill-color);\n",
              "    }\n",
              "    60% {\n",
              "      border-color: transparent;\n",
              "      border-right-color: var(--fill-color);\n",
              "    }\n",
              "    80% {\n",
              "      border-color: transparent;\n",
              "      border-right-color: var(--fill-color);\n",
              "      border-bottom-color: var(--fill-color);\n",
              "    }\n",
              "    90% {\n",
              "      border-color: transparent;\n",
              "      border-bottom-color: var(--fill-color);\n",
              "    }\n",
              "  }\n",
              "</style>\n",
              "\n",
              "  <script>\n",
              "    async function quickchart(key) {\n",
              "      const quickchartButtonEl =\n",
              "        document.querySelector('#' + key + ' button');\n",
              "      quickchartButtonEl.disabled = true;  // To prevent multiple clicks.\n",
              "      quickchartButtonEl.classList.add('colab-df-spinner');\n",
              "      try {\n",
              "        const charts = await google.colab.kernel.invokeFunction(\n",
              "            'suggestCharts', [key], {});\n",
              "      } catch (error) {\n",
              "        console.error('Error during call to suggestCharts:', error);\n",
              "      }\n",
              "      quickchartButtonEl.classList.remove('colab-df-spinner');\n",
              "      quickchartButtonEl.classList.add('colab-df-quickchart-complete');\n",
              "    }\n",
              "    (() => {\n",
              "      let quickchartButtonEl =\n",
              "        document.querySelector('#df-f23345d9-00eb-45e0-ab89-98242c66ec52 button');\n",
              "      quickchartButtonEl.style.display =\n",
              "        google.colab.kernel.accessAllowed ? 'block' : 'none';\n",
              "    })();\n",
              "  </script>\n",
              "</div>\n",
              "\n",
              "  <div id=\"id_144cacfb-d945-4c77-a5cc-310b244f80f2\">\n",
              "    <style>\n",
              "      .colab-df-generate {\n",
              "        background-color: #E8F0FE;\n",
              "        border: none;\n",
              "        border-radius: 50%;\n",
              "        cursor: pointer;\n",
              "        display: none;\n",
              "        fill: #1967D2;\n",
              "        height: 32px;\n",
              "        padding: 0 0 0 0;\n",
              "        width: 32px;\n",
              "      }\n",
              "\n",
              "      .colab-df-generate:hover {\n",
              "        background-color: #E2EBFA;\n",
              "        box-shadow: 0px 1px 2px rgba(60, 64, 67, 0.3), 0px 1px 3px 1px rgba(60, 64, 67, 0.15);\n",
              "        fill: #174EA6;\n",
              "      }\n",
              "\n",
              "      [theme=dark] .colab-df-generate {\n",
              "        background-color: #3B4455;\n",
              "        fill: #D2E3FC;\n",
              "      }\n",
              "\n",
              "      [theme=dark] .colab-df-generate:hover {\n",
              "        background-color: #434B5C;\n",
              "        box-shadow: 0px 1px 3px 1px rgba(0, 0, 0, 0.15);\n",
              "        filter: drop-shadow(0px 1px 2px rgba(0, 0, 0, 0.3));\n",
              "        fill: #FFFFFF;\n",
              "      }\n",
              "    </style>\n",
              "    <button class=\"colab-df-generate\" onclick=\"generateWithVariable('students')\"\n",
              "            title=\"Generate code using this dataframe.\"\n",
              "            style=\"display:none;\">\n",
              "\n",
              "  <svg xmlns=\"http://www.w3.org/2000/svg\" height=\"24px\"viewBox=\"0 0 24 24\"\n",
              "       width=\"24px\">\n",
              "    <path d=\"M7,19H8.4L18.45,9,17,7.55,7,17.6ZM5,21V16.75L18.45,3.32a2,2,0,0,1,2.83,0l1.4,1.43a1.91,1.91,0,0,1,.58,1.4,1.91,1.91,0,0,1-.58,1.4L9.25,21ZM18.45,9,17,7.55Zm-12,3A5.31,5.31,0,0,0,4.9,8.1,5.31,5.31,0,0,0,1,6.5,5.31,5.31,0,0,0,4.9,4.9,5.31,5.31,0,0,0,6.5,1,5.31,5.31,0,0,0,8.1,4.9,5.31,5.31,0,0,0,12,6.5,5.46,5.46,0,0,0,6.5,12Z\"/>\n",
              "  </svg>\n",
              "    </button>\n",
              "    <script>\n",
              "      (() => {\n",
              "      const buttonEl =\n",
              "        document.querySelector('#id_144cacfb-d945-4c77-a5cc-310b244f80f2 button.colab-df-generate');\n",
              "      buttonEl.style.display =\n",
              "        google.colab.kernel.accessAllowed ? 'block' : 'none';\n",
              "\n",
              "      buttonEl.onclick = () => {\n",
              "        google.colab.notebook.generateWithVariable('students');\n",
              "      }\n",
              "      })();\n",
              "    </script>\n",
              "  </div>\n",
              "\n",
              "    </div>\n",
              "  </div>\n"
            ],
            "application/vnd.google.colaboratory.intrinsic+json": {
              "type": "dataframe",
              "variable_name": "students",
              "summary": "{\n  \"name\": \"students\",\n  \"rows\": 24,\n  \"fields\": [\n    {\n      \"column\": \"Student ID\",\n      \"properties\": {\n        \"dtype\": \"number\",\n        \"std\": 7,\n        \"min\": 1,\n        \"max\": 24,\n        \"num_unique_values\": 24,\n        \"samples\": [\n          9,\n          17,\n          1\n        ],\n        \"semantic_type\": \"\",\n        \"description\": \"\"\n      }\n    },\n    {\n      \"column\": \"First Name\",\n      \"properties\": {\n        \"dtype\": \"string\",\n        \"num_unique_values\": 23,\n        \"samples\": [\n          \"Michael\",\n          \"Benjamin\",\n          \"Emma\"\n        ],\n        \"semantic_type\": \"\",\n        \"description\": \"\"\n      }\n    },\n    {\n      \"column\": \"Last Name\",\n      \"properties\": {\n        \"dtype\": \"string\",\n        \"num_unique_values\": 24,\n        \"samples\": [\n          \"Moore\",\n          \"Thompson\",\n          \"Johnson\"\n        ],\n        \"semantic_type\": \"\",\n        \"description\": \"\"\n      }\n    },\n    {\n      \"column\": \"GPA\",\n      \"properties\": {\n        \"dtype\": \"number\",\n        \"std\": 0.4091126842396812,\n        \"min\": 2.6,\n        \"max\": 3.9,\n        \"num_unique_values\": 12,\n        \"samples\": [\n          2.6,\n          2.7,\n          3.8\n        ],\n        \"semantic_type\": \"\",\n        \"description\": \"\"\n      }\n    },\n    {\n      \"column\": \"Major\",\n      \"properties\": {\n        \"dtype\": \"category\",\n        \"num_unique_values\": 2,\n        \"samples\": [\n          \"Maths\",\n          \"CS\"\n        ],\n        \"semantic_type\": \"\",\n        \"description\": \"\"\n      }\n    }\n  ]\n}"
            }
          },
          "metadata": {},
          "execution_count": 5
        }
      ],
      "source": [
        "students = data['Students']\n",
        "students"
      ]
    },
    {
      "cell_type": "markdown",
      "metadata": {
        "id": "vwBc8NCilO-E"
      },
      "source": [
        "And another one that has the \"forbidden pairs\" in it."
      ]
    },
    {
      "cell_type": "code",
      "execution_count": 6,
      "metadata": {
        "colab": {
          "base_uri": "https://localhost:8080/",
          "height": 206
        },
        "id": "RoCUOurelO-E",
        "outputId": "e56bb6b7-4a87-4b2b-8f7a-a7c757054c5a"
      },
      "outputs": [
        {
          "output_type": "execute_result",
          "data": {
            "text/plain": [
              "   Student 1  Student 2\n",
              "0          1          3\n",
              "1          1          4\n",
              "2          7         13\n",
              "3          8         17\n",
              "4          3         21"
            ],
            "text/html": [
              "\n",
              "  <div id=\"df-56567b19-e879-4c94-9b95-bacffefdf6a7\" class=\"colab-df-container\">\n",
              "    <div>\n",
              "<style scoped>\n",
              "    .dataframe tbody tr th:only-of-type {\n",
              "        vertical-align: middle;\n",
              "    }\n",
              "\n",
              "    .dataframe tbody tr th {\n",
              "        vertical-align: top;\n",
              "    }\n",
              "\n",
              "    .dataframe thead th {\n",
              "        text-align: right;\n",
              "    }\n",
              "</style>\n",
              "<table border=\"1\" class=\"dataframe\">\n",
              "  <thead>\n",
              "    <tr style=\"text-align: right;\">\n",
              "      <th></th>\n",
              "      <th>Student 1</th>\n",
              "      <th>Student 2</th>\n",
              "    </tr>\n",
              "  </thead>\n",
              "  <tbody>\n",
              "    <tr>\n",
              "      <th>0</th>\n",
              "      <td>1</td>\n",
              "      <td>3</td>\n",
              "    </tr>\n",
              "    <tr>\n",
              "      <th>1</th>\n",
              "      <td>1</td>\n",
              "      <td>4</td>\n",
              "    </tr>\n",
              "    <tr>\n",
              "      <th>2</th>\n",
              "      <td>7</td>\n",
              "      <td>13</td>\n",
              "    </tr>\n",
              "    <tr>\n",
              "      <th>3</th>\n",
              "      <td>8</td>\n",
              "      <td>17</td>\n",
              "    </tr>\n",
              "    <tr>\n",
              "      <th>4</th>\n",
              "      <td>3</td>\n",
              "      <td>21</td>\n",
              "    </tr>\n",
              "  </tbody>\n",
              "</table>\n",
              "</div>\n",
              "    <div class=\"colab-df-buttons\">\n",
              "\n",
              "  <div class=\"colab-df-container\">\n",
              "    <button class=\"colab-df-convert\" onclick=\"convertToInteractive('df-56567b19-e879-4c94-9b95-bacffefdf6a7')\"\n",
              "            title=\"Convert this dataframe to an interactive table.\"\n",
              "            style=\"display:none;\">\n",
              "\n",
              "  <svg xmlns=\"http://www.w3.org/2000/svg\" height=\"24px\" viewBox=\"0 -960 960 960\">\n",
              "    <path d=\"M120-120v-720h720v720H120Zm60-500h600v-160H180v160Zm220 220h160v-160H400v160Zm0 220h160v-160H400v160ZM180-400h160v-160H180v160Zm440 0h160v-160H620v160ZM180-180h160v-160H180v160Zm440 0h160v-160H620v160Z\"/>\n",
              "  </svg>\n",
              "    </button>\n",
              "\n",
              "  <style>\n",
              "    .colab-df-container {\n",
              "      display:flex;\n",
              "      gap: 12px;\n",
              "    }\n",
              "\n",
              "    .colab-df-convert {\n",
              "      background-color: #E8F0FE;\n",
              "      border: none;\n",
              "      border-radius: 50%;\n",
              "      cursor: pointer;\n",
              "      display: none;\n",
              "      fill: #1967D2;\n",
              "      height: 32px;\n",
              "      padding: 0 0 0 0;\n",
              "      width: 32px;\n",
              "    }\n",
              "\n",
              "    .colab-df-convert:hover {\n",
              "      background-color: #E2EBFA;\n",
              "      box-shadow: 0px 1px 2px rgba(60, 64, 67, 0.3), 0px 1px 3px 1px rgba(60, 64, 67, 0.15);\n",
              "      fill: #174EA6;\n",
              "    }\n",
              "\n",
              "    .colab-df-buttons div {\n",
              "      margin-bottom: 4px;\n",
              "    }\n",
              "\n",
              "    [theme=dark] .colab-df-convert {\n",
              "      background-color: #3B4455;\n",
              "      fill: #D2E3FC;\n",
              "    }\n",
              "\n",
              "    [theme=dark] .colab-df-convert:hover {\n",
              "      background-color: #434B5C;\n",
              "      box-shadow: 0px 1px 3px 1px rgba(0, 0, 0, 0.15);\n",
              "      filter: drop-shadow(0px 1px 2px rgba(0, 0, 0, 0.3));\n",
              "      fill: #FFFFFF;\n",
              "    }\n",
              "  </style>\n",
              "\n",
              "    <script>\n",
              "      const buttonEl =\n",
              "        document.querySelector('#df-56567b19-e879-4c94-9b95-bacffefdf6a7 button.colab-df-convert');\n",
              "      buttonEl.style.display =\n",
              "        google.colab.kernel.accessAllowed ? 'block' : 'none';\n",
              "\n",
              "      async function convertToInteractive(key) {\n",
              "        const element = document.querySelector('#df-56567b19-e879-4c94-9b95-bacffefdf6a7');\n",
              "        const dataTable =\n",
              "          await google.colab.kernel.invokeFunction('convertToInteractive',\n",
              "                                                    [key], {});\n",
              "        if (!dataTable) return;\n",
              "\n",
              "        const docLinkHtml = 'Like what you see? Visit the ' +\n",
              "          '<a target=\"_blank\" href=https://colab.research.google.com/notebooks/data_table.ipynb>data table notebook</a>'\n",
              "          + ' to learn more about interactive tables.';\n",
              "        element.innerHTML = '';\n",
              "        dataTable['output_type'] = 'display_data';\n",
              "        await google.colab.output.renderOutput(dataTable, element);\n",
              "        const docLink = document.createElement('div');\n",
              "        docLink.innerHTML = docLinkHtml;\n",
              "        element.appendChild(docLink);\n",
              "      }\n",
              "    </script>\n",
              "  </div>\n",
              "\n",
              "\n",
              "<div id=\"df-c4ad4d9a-a5ce-4fb4-b3a4-e4ec028a8e14\">\n",
              "  <button class=\"colab-df-quickchart\" onclick=\"quickchart('df-c4ad4d9a-a5ce-4fb4-b3a4-e4ec028a8e14')\"\n",
              "            title=\"Suggest charts\"\n",
              "            style=\"display:none;\">\n",
              "\n",
              "<svg xmlns=\"http://www.w3.org/2000/svg\" height=\"24px\"viewBox=\"0 0 24 24\"\n",
              "     width=\"24px\">\n",
              "    <g>\n",
              "        <path d=\"M19 3H5c-1.1 0-2 .9-2 2v14c0 1.1.9 2 2 2h14c1.1 0 2-.9 2-2V5c0-1.1-.9-2-2-2zM9 17H7v-7h2v7zm4 0h-2V7h2v10zm4 0h-2v-4h2v4z\"/>\n",
              "    </g>\n",
              "</svg>\n",
              "  </button>\n",
              "\n",
              "<style>\n",
              "  .colab-df-quickchart {\n",
              "      --bg-color: #E8F0FE;\n",
              "      --fill-color: #1967D2;\n",
              "      --hover-bg-color: #E2EBFA;\n",
              "      --hover-fill-color: #174EA6;\n",
              "      --disabled-fill-color: #AAA;\n",
              "      --disabled-bg-color: #DDD;\n",
              "  }\n",
              "\n",
              "  [theme=dark] .colab-df-quickchart {\n",
              "      --bg-color: #3B4455;\n",
              "      --fill-color: #D2E3FC;\n",
              "      --hover-bg-color: #434B5C;\n",
              "      --hover-fill-color: #FFFFFF;\n",
              "      --disabled-bg-color: #3B4455;\n",
              "      --disabled-fill-color: #666;\n",
              "  }\n",
              "\n",
              "  .colab-df-quickchart {\n",
              "    background-color: var(--bg-color);\n",
              "    border: none;\n",
              "    border-radius: 50%;\n",
              "    cursor: pointer;\n",
              "    display: none;\n",
              "    fill: var(--fill-color);\n",
              "    height: 32px;\n",
              "    padding: 0;\n",
              "    width: 32px;\n",
              "  }\n",
              "\n",
              "  .colab-df-quickchart:hover {\n",
              "    background-color: var(--hover-bg-color);\n",
              "    box-shadow: 0 1px 2px rgba(60, 64, 67, 0.3), 0 1px 3px 1px rgba(60, 64, 67, 0.15);\n",
              "    fill: var(--button-hover-fill-color);\n",
              "  }\n",
              "\n",
              "  .colab-df-quickchart-complete:disabled,\n",
              "  .colab-df-quickchart-complete:disabled:hover {\n",
              "    background-color: var(--disabled-bg-color);\n",
              "    fill: var(--disabled-fill-color);\n",
              "    box-shadow: none;\n",
              "  }\n",
              "\n",
              "  .colab-df-spinner {\n",
              "    border: 2px solid var(--fill-color);\n",
              "    border-color: transparent;\n",
              "    border-bottom-color: var(--fill-color);\n",
              "    animation:\n",
              "      spin 1s steps(1) infinite;\n",
              "  }\n",
              "\n",
              "  @keyframes spin {\n",
              "    0% {\n",
              "      border-color: transparent;\n",
              "      border-bottom-color: var(--fill-color);\n",
              "      border-left-color: var(--fill-color);\n",
              "    }\n",
              "    20% {\n",
              "      border-color: transparent;\n",
              "      border-left-color: var(--fill-color);\n",
              "      border-top-color: var(--fill-color);\n",
              "    }\n",
              "    30% {\n",
              "      border-color: transparent;\n",
              "      border-left-color: var(--fill-color);\n",
              "      border-top-color: var(--fill-color);\n",
              "      border-right-color: var(--fill-color);\n",
              "    }\n",
              "    40% {\n",
              "      border-color: transparent;\n",
              "      border-right-color: var(--fill-color);\n",
              "      border-top-color: var(--fill-color);\n",
              "    }\n",
              "    60% {\n",
              "      border-color: transparent;\n",
              "      border-right-color: var(--fill-color);\n",
              "    }\n",
              "    80% {\n",
              "      border-color: transparent;\n",
              "      border-right-color: var(--fill-color);\n",
              "      border-bottom-color: var(--fill-color);\n",
              "    }\n",
              "    90% {\n",
              "      border-color: transparent;\n",
              "      border-bottom-color: var(--fill-color);\n",
              "    }\n",
              "  }\n",
              "</style>\n",
              "\n",
              "  <script>\n",
              "    async function quickchart(key) {\n",
              "      const quickchartButtonEl =\n",
              "        document.querySelector('#' + key + ' button');\n",
              "      quickchartButtonEl.disabled = true;  // To prevent multiple clicks.\n",
              "      quickchartButtonEl.classList.add('colab-df-spinner');\n",
              "      try {\n",
              "        const charts = await google.colab.kernel.invokeFunction(\n",
              "            'suggestCharts', [key], {});\n",
              "      } catch (error) {\n",
              "        console.error('Error during call to suggestCharts:', error);\n",
              "      }\n",
              "      quickchartButtonEl.classList.remove('colab-df-spinner');\n",
              "      quickchartButtonEl.classList.add('colab-df-quickchart-complete');\n",
              "    }\n",
              "    (() => {\n",
              "      let quickchartButtonEl =\n",
              "        document.querySelector('#df-c4ad4d9a-a5ce-4fb4-b3a4-e4ec028a8e14 button');\n",
              "      quickchartButtonEl.style.display =\n",
              "        google.colab.kernel.accessAllowed ? 'block' : 'none';\n",
              "    })();\n",
              "  </script>\n",
              "</div>\n",
              "\n",
              "  <div id=\"id_867c8965-ec3c-47c6-a5fd-7ac59c163483\">\n",
              "    <style>\n",
              "      .colab-df-generate {\n",
              "        background-color: #E8F0FE;\n",
              "        border: none;\n",
              "        border-radius: 50%;\n",
              "        cursor: pointer;\n",
              "        display: none;\n",
              "        fill: #1967D2;\n",
              "        height: 32px;\n",
              "        padding: 0 0 0 0;\n",
              "        width: 32px;\n",
              "      }\n",
              "\n",
              "      .colab-df-generate:hover {\n",
              "        background-color: #E2EBFA;\n",
              "        box-shadow: 0px 1px 2px rgba(60, 64, 67, 0.3), 0px 1px 3px 1px rgba(60, 64, 67, 0.15);\n",
              "        fill: #174EA6;\n",
              "      }\n",
              "\n",
              "      [theme=dark] .colab-df-generate {\n",
              "        background-color: #3B4455;\n",
              "        fill: #D2E3FC;\n",
              "      }\n",
              "\n",
              "      [theme=dark] .colab-df-generate:hover {\n",
              "        background-color: #434B5C;\n",
              "        box-shadow: 0px 1px 3px 1px rgba(0, 0, 0, 0.15);\n",
              "        filter: drop-shadow(0px 1px 2px rgba(0, 0, 0, 0.3));\n",
              "        fill: #FFFFFF;\n",
              "      }\n",
              "    </style>\n",
              "    <button class=\"colab-df-generate\" onclick=\"generateWithVariable('forbiddens')\"\n",
              "            title=\"Generate code using this dataframe.\"\n",
              "            style=\"display:none;\">\n",
              "\n",
              "  <svg xmlns=\"http://www.w3.org/2000/svg\" height=\"24px\"viewBox=\"0 0 24 24\"\n",
              "       width=\"24px\">\n",
              "    <path d=\"M7,19H8.4L18.45,9,17,7.55,7,17.6ZM5,21V16.75L18.45,3.32a2,2,0,0,1,2.83,0l1.4,1.43a1.91,1.91,0,0,1,.58,1.4,1.91,1.91,0,0,1-.58,1.4L9.25,21ZM18.45,9,17,7.55Zm-12,3A5.31,5.31,0,0,0,4.9,8.1,5.31,5.31,0,0,0,1,6.5,5.31,5.31,0,0,0,4.9,4.9,5.31,5.31,0,0,0,6.5,1,5.31,5.31,0,0,0,8.1,4.9,5.31,5.31,0,0,0,12,6.5,5.46,5.46,0,0,0,6.5,12Z\"/>\n",
              "  </svg>\n",
              "    </button>\n",
              "    <script>\n",
              "      (() => {\n",
              "      const buttonEl =\n",
              "        document.querySelector('#id_867c8965-ec3c-47c6-a5fd-7ac59c163483 button.colab-df-generate');\n",
              "      buttonEl.style.display =\n",
              "        google.colab.kernel.accessAllowed ? 'block' : 'none';\n",
              "\n",
              "      buttonEl.onclick = () => {\n",
              "        google.colab.notebook.generateWithVariable('forbiddens');\n",
              "      }\n",
              "      })();\n",
              "    </script>\n",
              "  </div>\n",
              "\n",
              "    </div>\n",
              "  </div>\n"
            ],
            "application/vnd.google.colaboratory.intrinsic+json": {
              "type": "dataframe",
              "variable_name": "forbiddens",
              "summary": "{\n  \"name\": \"forbiddens\",\n  \"rows\": 5,\n  \"fields\": [\n    {\n      \"column\": \"Student 1\",\n      \"properties\": {\n        \"dtype\": \"number\",\n        \"std\": 3,\n        \"min\": 1,\n        \"max\": 8,\n        \"num_unique_values\": 4,\n        \"samples\": [\n          7,\n          3,\n          1\n        ],\n        \"semantic_type\": \"\",\n        \"description\": \"\"\n      }\n    },\n    {\n      \"column\": \"Student 2\",\n      \"properties\": {\n        \"dtype\": \"number\",\n        \"std\": 7,\n        \"min\": 3,\n        \"max\": 21,\n        \"num_unique_values\": 5,\n        \"samples\": [\n          4,\n          21,\n          13\n        ],\n        \"semantic_type\": \"\",\n        \"description\": \"\"\n      }\n    }\n  ]\n}"
            }
          },
          "metadata": {},
          "execution_count": 6
        }
      ],
      "source": [
        "forbiddens = data['Forbidden pairs']\n",
        "forbiddens"
      ]
    },
    {
      "cell_type": "markdown",
      "metadata": {
        "id": "ok3J2kaHlO-F"
      },
      "source": [
        "Let's preprocess the data and prepare it for the model."
      ]
    },
    {
      "cell_type": "code",
      "execution_count": 7,
      "metadata": {
        "id": "IdnmZN3ZlO-F"
      },
      "outputs": [],
      "source": [
        "import math\n",
        "\n",
        "names = {}\n",
        "gpas = {}\n",
        "majors = {}\n",
        "pots = {}\n",
        "\n",
        "# for line in students.values.tolist():\n",
        "#     [id, name, surname, gpa, major] = line\n",
        "#     gpas[id] = int(gpa * 10)\n",
        "#     majors[id] = 0 if major == \"CS\" else 1\n",
        "\n",
        "studentsSortedByGPA = sorted(students.values.tolist(),\n",
        "                                key = lambda line: line[3])\n",
        "\n",
        "for index, line in enumerate(studentsSortedByGPA):\n",
        "    [id, name, surname, gpa, major] = line\n",
        "    gpas[id] = int(gpa * 10)\n",
        "    majors[id] = 0 if major == \"CS\" else 1\n",
        "    pots[id] = 1 + math.floor(index / 4)\n",
        "    names[id] = f'[{id}] {name} {surname} ({major} - {gpa} - pot {pots[id]})'\n",
        "\n",
        "nbStudents = len(students)\n"
      ]
    },
    {
      "cell_type": "markdown",
      "metadata": {
        "id": "665EoZ6mlO-F"
      },
      "source": [
        "Installing and loading the Conjure notebook extension"
      ]
    },
    {
      "cell_type": "code",
      "execution_count": 8,
      "metadata": {
        "colab": {
          "base_uri": "https://localhost:8080/"
        },
        "id": "yZmgYFTKlO-G",
        "outputId": "7b9318fa-b30a-463b-ad7e-82f95b46d56b"
      },
      "outputs": [
        {
          "output_type": "stream",
          "name": "stdout",
          "text": [
            "  Preparing metadata (setup.py) ... \u001b[?25l\u001b[?25hdone\n",
            "  Building wheel for Conjure-Notebook (setup.py) ... \u001b[?25l\u001b[?25hdone\n",
            "The conjure extension is already loaded. To reload it, use:\n",
            "  %reload_ext conjure\n"
          ]
        }
      ],
      "source": [
        "%pip install --quiet git+https://github.com/conjure-cp/conjure-notebook.git@v0.0.8\n",
        "%load_ext conjure"
      ]
    },
    {
      "cell_type": "markdown",
      "metadata": {
        "id": "c8Mw6j_QlO-G"
      },
      "source": [
        "This extension contains a few _magic_ commands, for example `%%conjure`. Also see `%conjure_help`.\n"
      ]
    },
    {
      "cell_type": "markdown",
      "metadata": {
        "id": "66gvzKWmlO-G"
      },
      "source": [
        "These are the parameters of our model."
      ]
    },
    {
      "cell_type": "code",
      "execution_count": 9,
      "metadata": {
        "colab": {
          "base_uri": "https://localhost:8080/",
          "height": 318
        },
        "id": "UIOuw6FClO-H",
        "outputId": "69b8163d-5292-47c0-8394-033676829e39"
      },
      "outputs": [
        {
          "output_type": "display_data",
          "data": {
            "text/plain": [
              "<IPython.core.display.Markdown object>"
            ],
            "text/markdown": "```json\n{}\n```"
          },
          "metadata": {}
        },
        {
          "output_type": "display_data",
          "data": {
            "text/plain": [
              "<IPython.core.display.Markdown object>"
            ],
            "text/markdown": "| Statistic | Value |\n|:-|-:|\n| SolverTotalTime | 0.000 |\n| SavileRowClauseOut | 0 |\n| SavileRowTotalTime | 0.105 |\n| SolverFailures | 0 |\n| SolverSatisfiable | 1 |\n| SavileRowTimeOut | 0 |\n| SolverTimeOut | 0 |\n| SolverNodes | 1 |\n"
          },
          "metadata": {}
        }
      ],
      "source": [
        "%%conjure\n",
        "\n",
        "given nbStudents : int\n",
        "given gpas : function (total) int(1..nbStudents) --> int\n",
        "given majors : function (total) int(1..nbStudents) --> int(0,1)\n",
        "given pots : function (total) int(1..nbStudents) --> int(1..6)\n"
      ]
    },
    {
      "cell_type": "markdown",
      "metadata": {
        "id": "Ga2jbYFilO-I"
      },
      "source": [
        "And we are trying to find a partitioning of the students.\n",
        "\n",
        "A partition is a _mutually exclusive_ and _collectively exhaustive_ collection of parts.\n",
        "\n",
        "Here, we say each part will contain 6 items it it. We know there are 6 pots in this problem. We could have easily parameterised the model over the number of pots, too.\n",
        "\n",
        "This implies that there will be 4 parts. We can provide this information as well, using `numParts 4` as a domain attribute. We will leave this out for now."
      ]
    },
    {
      "cell_type": "code",
      "execution_count": 10,
      "metadata": {
        "colab": {
          "base_uri": "https://localhost:8080/",
          "height": 318
        },
        "id": "fGNK11CDlO-I",
        "outputId": "59e1c34f-1795-455b-f1eb-f88310be212f"
      },
      "outputs": [
        {
          "output_type": "display_data",
          "data": {
            "text/plain": [
              "<IPython.core.display.Markdown object>"
            ],
            "text/markdown": "```json\n{\"groups\": [[1, 2, 3, 4, 5, 6], [7, 8, 9, 10, 11, 12], [13, 14, 15, 16, 17, 18], [19, 20, 21, 22, 23, 24]]}\n```"
          },
          "metadata": {}
        },
        {
          "output_type": "display_data",
          "data": {
            "text/plain": [
              "<IPython.core.display.Markdown object>"
            ],
            "text/markdown": "| Statistic | Value |\n|:-|-:|\n| SolverTotalTime | 0.016 |\n| SavileRowClauseOut | 0 |\n| SavileRowTotalTime | 0.906 |\n| SolverFailures | 0 |\n| SolverSatisfiable | 1 |\n| SavileRowTimeOut | 0 |\n| SolverTimeOut | 0 |\n| SolverNodes | 16 |\n"
          },
          "metadata": {}
        }
      ],
      "source": [
        "%%conjure+\n",
        "\n",
        "find groups : partition (partSize 6) from int(1..nbStudents)\n"
      ]
    },
    {
      "cell_type": "markdown",
      "metadata": {
        "id": "y9P7loJ4lO-I"
      },
      "source": [
        "We have a solution now!\n",
        "\n",
        "It is a solution to an incomplete model however. It doesn't enfore any of our constraints yet. Let's format it sligtly better using Python."
      ]
    },
    {
      "cell_type": "code",
      "execution_count": 11,
      "metadata": {
        "colab": {
          "base_uri": "https://localhost:8080/"
        },
        "id": "cfLQp-DklO-I",
        "outputId": "cc358e33-24dc-43f9-f331-838140bcd06f"
      },
      "outputs": [
        {
          "output_type": "stream",
          "name": "stdout",
          "text": [
            "# Group 1\n",
            "[1] Emma Johnson (CS - 3.8 - pot 5)\n",
            "[2] Liam Smith (CS - 3.5 - pot 3)\n",
            "[3] Olivia Williams (CS - 3.9 - pot 6)\n",
            "[4] Noah Jones (Maths - 3.7 - pot 4)\n",
            "[5] Ava Brown (CS - 3.2 - pot 2)\n",
            "[6] Isabella Davis (CS - 3.6 - pot 4)\n",
            "\n",
            "# Group 2\n",
            "[7] Sophia Miller (CS - 2.9 - pot 1)\n",
            "[8] Mia Wilson (Maths - 3.3 - pot 3)\n",
            "[9] Harper Moore (CS - 3.1 - pot 2)\n",
            "[10] Benjamin Taylor (Maths - 3.8 - pot 5)\n",
            "[11] Elijah Anderson (CS - 3.9 - pot 6)\n",
            "[12] Oliver Thomas (Maths - 2.7 - pot 1)\n",
            "\n",
            "# Group 3\n",
            "[13] Mei Ling Chen (CS - 3.7 - pot 5)\n",
            "[14] Aarav Patel (CS - 3.6 - pot 4)\n",
            "[15] Layla Rahman (CS - 3.2 - pot 2)\n",
            "[16] Michael Martin (Maths - 2.9 - pot 2)\n",
            "[17] Emily Thompson (CS - 3.3 - pot 3)\n",
            "[18] Zara Abbas (CS - 2.6 - pot 1)\n",
            "\n",
            "# Group 4\n",
            "[19] Alexander Martinez (CS - 3.8 - pot 6)\n",
            "[20] Aarav Sharma (Maths - 3.9 - pot 6)\n",
            "[21] Daniel Clark (CS - 2.8 - pot 1)\n",
            "[22] Jing Wang (CS - 3.7 - pot 5)\n",
            "[23] Fatima Ali (Maths - 3.6 - pot 4)\n",
            "[24] Ahmed Khalid (CS - 3.2 - pot 3)\n",
            "\n"
          ]
        }
      ],
      "source": [
        "for n, group in enumerate(groups):\n",
        "    print(f'# Group {n+1}')\n",
        "    for s in group:\n",
        "        print(names[s])\n",
        "    print()"
      ]
    },
    {
      "cell_type": "markdown",
      "metadata": {
        "id": "aqXyCjuGlO-I"
      },
      "source": [
        "This is a useful bit of functionality, let's define a Python function that can print the solution this way."
      ]
    },
    {
      "cell_type": "code",
      "execution_count": 12,
      "metadata": {
        "id": "rpsroeR6lO-I"
      },
      "outputs": [],
      "source": [
        "def printSolution():\n",
        "    # this is not best practice in general Python programming\n",
        "    # groups is a global variable\n",
        "    # however, it's probably fine in a notebook environment\n",
        "    for n, group in enumerate(groups):\n",
        "        print(f'# Group {n+1}')\n",
        "        for s in group:\n",
        "            print(names[s])\n",
        "        print()"
      ]
    },
    {
      "cell_type": "markdown",
      "metadata": {
        "id": "oeVl0uzflO-J"
      },
      "source": [
        "OK, let's focus on the intermediate solution again. In group 1, we have two people from pot 4. This is not good.\n",
        "\n",
        "Let's enforce the condition that there has to be a member from each pot in every part of the partition."
      ]
    },
    {
      "cell_type": "code",
      "execution_count": 13,
      "metadata": {
        "colab": {
          "base_uri": "https://localhost:8080/",
          "height": 318
        },
        "id": "8Ra0inZwlO-J",
        "outputId": "0b047b5b-470c-4a2c-e3b2-f9c764cc69c1"
      },
      "outputs": [
        {
          "output_type": "display_data",
          "data": {
            "text/plain": [
              "<IPython.core.display.Markdown object>"
            ],
            "text/markdown": "```json\n{\"groups\": [[1, 2, 3, 4, 5, 7], [6, 8, 9, 10, 11, 12], [13, 14, 15, 17, 18, 19], [16, 20, 21, 22, 23, 24]]}\n```"
          },
          "metadata": {}
        },
        {
          "output_type": "display_data",
          "data": {
            "text/plain": [
              "<IPython.core.display.Markdown object>"
            ],
            "text/markdown": "| Statistic | Value |\n|:-|-:|\n| SolverTotalTime | 0.042 |\n| SavileRowClauseOut | 0 |\n| SavileRowTotalTime | 2.113 |\n| SolverFailures | 0 |\n| SolverSatisfiable | 1 |\n| SavileRowTimeOut | 0 |\n| SolverTimeOut | 0 |\n| SolverNodes | 16 |\n"
          },
          "metadata": {}
        }
      ],
      "source": [
        "%%conjure+\n",
        "\n",
        "$ one member from each pot\n",
        "such that\n",
        "    forAll group in groups .\n",
        "        forAll pot : int(1..6) .\n",
        "            exists s in group .\n",
        "                pots(s) = pot\n"
      ]
    },
    {
      "cell_type": "code",
      "execution_count": 14,
      "metadata": {
        "colab": {
          "base_uri": "https://localhost:8080/"
        },
        "id": "4r4LyRiRlO-J",
        "outputId": "bdd126b1-f755-4ce7-9ada-42ded5f6dc7b"
      },
      "outputs": [
        {
          "output_type": "stream",
          "name": "stdout",
          "text": [
            "# Group 1\n",
            "[1] Emma Johnson (CS - 3.8 - pot 5)\n",
            "[2] Liam Smith (CS - 3.5 - pot 3)\n",
            "[3] Olivia Williams (CS - 3.9 - pot 6)\n",
            "[4] Noah Jones (Maths - 3.7 - pot 4)\n",
            "[5] Ava Brown (CS - 3.2 - pot 2)\n",
            "[7] Sophia Miller (CS - 2.9 - pot 1)\n",
            "\n",
            "# Group 2\n",
            "[6] Isabella Davis (CS - 3.6 - pot 4)\n",
            "[8] Mia Wilson (Maths - 3.3 - pot 3)\n",
            "[9] Harper Moore (CS - 3.1 - pot 2)\n",
            "[10] Benjamin Taylor (Maths - 3.8 - pot 5)\n",
            "[11] Elijah Anderson (CS - 3.9 - pot 6)\n",
            "[12] Oliver Thomas (Maths - 2.7 - pot 1)\n",
            "\n",
            "# Group 3\n",
            "[13] Mei Ling Chen (CS - 3.7 - pot 5)\n",
            "[14] Aarav Patel (CS - 3.6 - pot 4)\n",
            "[15] Layla Rahman (CS - 3.2 - pot 2)\n",
            "[17] Emily Thompson (CS - 3.3 - pot 3)\n",
            "[18] Zara Abbas (CS - 2.6 - pot 1)\n",
            "[19] Alexander Martinez (CS - 3.8 - pot 6)\n",
            "\n",
            "# Group 4\n",
            "[16] Michael Martin (Maths - 2.9 - pot 2)\n",
            "[20] Aarav Sharma (Maths - 3.9 - pot 6)\n",
            "[21] Daniel Clark (CS - 2.8 - pot 1)\n",
            "[22] Jing Wang (CS - 3.7 - pot 5)\n",
            "[23] Fatima Ali (Maths - 3.6 - pot 4)\n",
            "[24] Ahmed Khalid (CS - 3.2 - pot 3)\n",
            "\n"
          ]
        }
      ],
      "source": [
        "printSolution()"
      ]
    },
    {
      "cell_type": "markdown",
      "metadata": {
        "id": "fZgJQkd-lO-J"
      },
      "source": [
        "Better.\n",
        "\n",
        "Now each group has exactly one member from each pot.\n",
        "\n",
        "But group 1 has a single Maths major in it. Noah might feel lonely, let's enforce the condition that there cannot be a single person from any particular major.\n",
        "\n",
        "This means a group can contain all CS or all Maths students, but if there is a mixture there will be at least 2 students from each major."
      ]
    },
    {
      "cell_type": "code",
      "execution_count": 15,
      "metadata": {
        "colab": {
          "base_uri": "https://localhost:8080/",
          "height": 318
        },
        "id": "kDof_HQRlO-J",
        "outputId": "c0dfadf2-b5ef-4c56-f47c-12dd6218c820"
      },
      "outputs": [
        {
          "output_type": "display_data",
          "data": {
            "text/plain": [
              "<IPython.core.display.Markdown object>"
            ],
            "text/markdown": "```json\n{\"groups\": [[1, 2, 3, 4, 5, 12], [6, 7, 8, 9, 10, 11], [13, 14, 15, 17, 18, 19], [16, 20, 21, 22, 23, 24]]}\n```"
          },
          "metadata": {}
        },
        {
          "output_type": "display_data",
          "data": {
            "text/plain": [
              "<IPython.core.display.Markdown object>"
            ],
            "text/markdown": "| Statistic | Value |\n|:-|-:|\n| SolverTotalTime | 0.022 |\n| SavileRowClauseOut | 0 |\n| SavileRowTotalTime | 1.75 |\n| SolverFailures | 5 |\n| SolverSatisfiable | 1 |\n| SavileRowTimeOut | 0 |\n| SolverTimeOut | 0 |\n| SolverNodes | 20 |\n"
          },
          "metadata": {}
        }
      ],
      "source": [
        "%%conjure+\n",
        "\n",
        "$ no single major\n",
        "such that\n",
        "    forAll group in groups .\n",
        "        forAll major : int(0,1) .\n",
        "            sum([ toInt(majors(s) = major) | s <- group ]) != 1"
      ]
    },
    {
      "cell_type": "code",
      "execution_count": 16,
      "metadata": {
        "colab": {
          "base_uri": "https://localhost:8080/"
        },
        "id": "vvJhkyc2lO-J",
        "outputId": "1795940c-2caf-4d5c-9ee9-2e91e6f9e47c"
      },
      "outputs": [
        {
          "output_type": "stream",
          "name": "stdout",
          "text": [
            "# Group 1\n",
            "[1] Emma Johnson (CS - 3.8 - pot 5)\n",
            "[2] Liam Smith (CS - 3.5 - pot 3)\n",
            "[3] Olivia Williams (CS - 3.9 - pot 6)\n",
            "[4] Noah Jones (Maths - 3.7 - pot 4)\n",
            "[5] Ava Brown (CS - 3.2 - pot 2)\n",
            "[12] Oliver Thomas (Maths - 2.7 - pot 1)\n",
            "\n",
            "# Group 2\n",
            "[6] Isabella Davis (CS - 3.6 - pot 4)\n",
            "[7] Sophia Miller (CS - 2.9 - pot 1)\n",
            "[8] Mia Wilson (Maths - 3.3 - pot 3)\n",
            "[9] Harper Moore (CS - 3.1 - pot 2)\n",
            "[10] Benjamin Taylor (Maths - 3.8 - pot 5)\n",
            "[11] Elijah Anderson (CS - 3.9 - pot 6)\n",
            "\n",
            "# Group 3\n",
            "[13] Mei Ling Chen (CS - 3.7 - pot 5)\n",
            "[14] Aarav Patel (CS - 3.6 - pot 4)\n",
            "[15] Layla Rahman (CS - 3.2 - pot 2)\n",
            "[17] Emily Thompson (CS - 3.3 - pot 3)\n",
            "[18] Zara Abbas (CS - 2.6 - pot 1)\n",
            "[19] Alexander Martinez (CS - 3.8 - pot 6)\n",
            "\n",
            "# Group 4\n",
            "[16] Michael Martin (Maths - 2.9 - pot 2)\n",
            "[20] Aarav Sharma (Maths - 3.9 - pot 6)\n",
            "[21] Daniel Clark (CS - 2.8 - pot 1)\n",
            "[22] Jing Wang (CS - 3.7 - pot 5)\n",
            "[23] Fatima Ali (Maths - 3.6 - pot 4)\n",
            "[24] Ahmed Khalid (CS - 3.2 - pot 3)\n",
            "\n"
          ]
        }
      ],
      "source": [
        "printSolution()"
      ]
    },
    {
      "cell_type": "markdown",
      "metadata": {
        "id": "8WSq2-AClO-J"
      },
      "source": [
        "We have a list of people who cannot be in the same group for some reason. Let's remember who these people were."
      ]
    },
    {
      "cell_type": "code",
      "execution_count": 17,
      "metadata": {
        "colab": {
          "base_uri": "https://localhost:8080/"
        },
        "id": "C-qMSpWelO-J",
        "outputId": "f5047a7c-f4e6-4339-8ab1-4a52daf19d2e"
      },
      "outputs": [
        {
          "output_type": "execute_result",
          "data": {
            "text/plain": [
              "[[1, 3], [1, 4], [7, 13], [8, 17], [3, 21]]"
            ]
          },
          "metadata": {},
          "execution_count": 17
        }
      ],
      "source": [
        "forbiddens = forbiddens.values.tolist()\n",
        "forbiddens"
      ]
    },
    {
      "cell_type": "markdown",
      "metadata": {
        "id": "gd48dHP_lO-J"
      },
      "source": [
        "Not good. 1 and 3 (Emma and Olivia) are not supposed to be in the same group, but they are.\n",
        "\n",
        "Let's add another constraint. Pairs of people listed together in the forbidden list must be in different parts of the partition.\n",
        "\n",
        "You can learn more about the apart constraint expression later. For now, the short version is that it takes two arguments, a set of values and a partition. Items in the set of values must not be together in the same part. Exactly what we need."
      ]
    },
    {
      "cell_type": "code",
      "execution_count": 18,
      "metadata": {
        "colab": {
          "base_uri": "https://localhost:8080/",
          "height": 318
        },
        "id": "ZTiczJ5UlO-J",
        "outputId": "447438d0-4859-4243-e835-c30955dbf99c"
      },
      "outputs": [
        {
          "output_type": "display_data",
          "data": {
            "text/plain": [
              "<IPython.core.display.Markdown object>"
            ],
            "text/markdown": "```json\n{\"groups\": [[1, 2, 5, 6, 7, 11], [3, 4, 8, 9, 10, 12], [13, 14, 15, 17, 18, 19], [16, 20, 21, 22, 23, 24]]}\n```"
          },
          "metadata": {}
        },
        {
          "output_type": "display_data",
          "data": {
            "text/plain": [
              "<IPython.core.display.Markdown object>"
            ],
            "text/markdown": "| Statistic | Value |\n|:-|-:|\n| SolverTotalTime | 0.087 |\n| SavileRowClauseOut | 0 |\n| SavileRowTotalTime | 3.075 |\n| SolverFailures | 0 |\n| SolverSatisfiable | 1 |\n| SavileRowTimeOut | 0 |\n| SolverTimeOut | 0 |\n| SolverNodes | 15 |\n"
          },
          "metadata": {}
        }
      ],
      "source": [
        "%%conjure+\n",
        "\n",
        "given forbiddens : set of (int, int)\n",
        "such that\n",
        "    forAll (a,b) in forbiddens .\n",
        "        apart({a,b}, groups)"
      ]
    },
    {
      "cell_type": "code",
      "execution_count": 19,
      "metadata": {
        "colab": {
          "base_uri": "https://localhost:8080/"
        },
        "id": "i3q7Gbf_lO-J",
        "outputId": "0b2ff2c0-7a22-41c0-efa4-c0866c4f03b1"
      },
      "outputs": [
        {
          "output_type": "stream",
          "name": "stdout",
          "text": [
            "# Group 1\n",
            "[1] Emma Johnson (CS - 3.8 - pot 5)\n",
            "[2] Liam Smith (CS - 3.5 - pot 3)\n",
            "[5] Ava Brown (CS - 3.2 - pot 2)\n",
            "[6] Isabella Davis (CS - 3.6 - pot 4)\n",
            "[7] Sophia Miller (CS - 2.9 - pot 1)\n",
            "[11] Elijah Anderson (CS - 3.9 - pot 6)\n",
            "\n",
            "# Group 2\n",
            "[3] Olivia Williams (CS - 3.9 - pot 6)\n",
            "[4] Noah Jones (Maths - 3.7 - pot 4)\n",
            "[8] Mia Wilson (Maths - 3.3 - pot 3)\n",
            "[9] Harper Moore (CS - 3.1 - pot 2)\n",
            "[10] Benjamin Taylor (Maths - 3.8 - pot 5)\n",
            "[12] Oliver Thomas (Maths - 2.7 - pot 1)\n",
            "\n",
            "# Group 3\n",
            "[13] Mei Ling Chen (CS - 3.7 - pot 5)\n",
            "[14] Aarav Patel (CS - 3.6 - pot 4)\n",
            "[15] Layla Rahman (CS - 3.2 - pot 2)\n",
            "[17] Emily Thompson (CS - 3.3 - pot 3)\n",
            "[18] Zara Abbas (CS - 2.6 - pot 1)\n",
            "[19] Alexander Martinez (CS - 3.8 - pot 6)\n",
            "\n",
            "# Group 4\n",
            "[16] Michael Martin (Maths - 2.9 - pot 2)\n",
            "[20] Aarav Sharma (Maths - 3.9 - pot 6)\n",
            "[21] Daniel Clark (CS - 2.8 - pot 1)\n",
            "[22] Jing Wang (CS - 3.7 - pot 5)\n",
            "[23] Fatima Ali (Maths - 3.6 - pot 4)\n",
            "[24] Ahmed Khalid (CS - 3.2 - pot 3)\n",
            "\n"
          ]
        }
      ],
      "source": [
        "printSolution()"
      ]
    },
    {
      "cell_type": "markdown",
      "metadata": {
        "id": "2gGP-QXZlO-J"
      },
      "source": [
        "Looks good!\n",
        "\n",
        "This is not a unique solution.\n",
        "\n",
        "More constraints can be added.\n",
        "\n",
        "An objective can be added (for example one to do with average gpa of a group?).\n",
        "\n",
        "Or more solutions can be enumerated.\n",
        "\n",
        "Stay tuned..."
      ]
    }
  ],
  "metadata": {
    "kernelspec": {
      "display_name": "Python 3",
      "language": "python",
      "name": "python3"
    },
    "language_info": {
      "codemirror_mode": {
        "name": "ipython",
        "version": 3
      },
      "file_extension": ".py",
      "mimetype": "text/x-python",
      "name": "python",
      "nbconvert_exporter": "python",
      "pygments_lexer": "ipython3",
      "version": "3.11.4"
    },
    "orig_nbformat": 4,
    "colab": {
      "provenance": [],
      "include_colab_link": true
    }
  },
  "nbformat": 4,
  "nbformat_minor": 0
}