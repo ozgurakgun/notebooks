{
  "nbformat": 4,
  "nbformat_minor": 0,
  "metadata": {
    "colab": {
      "provenance": [],
      "authorship_tag": "ABX9TyPs6Y5+MIeHPBsf3E3/a62S",
      "include_colab_link": true
    },
    "kernelspec": {
      "name": "python3",
      "display_name": "Python 3"
    },
    "language_info": {
      "name": "python"
    }
  },
  "cells": [
    {
      "cell_type": "markdown",
      "metadata": {
        "id": "view-in-github",
        "colab_type": "text"
      },
      "source": [
        "<a href=\"https://colab.research.google.com/github/ozgurakgun/notebooks/blob/main/Send_Most_Money.ipynb\" target=\"_parent\"><img src=\"https://colab.research.google.com/assets/colab-badge.svg\" alt=\"Open In Colab\"/></a>"
      ]
    },
    {
      "cell_type": "code",
      "execution_count": 1,
      "metadata": {
        "colab": {
          "base_uri": "https://localhost:8080/",
          "height": 179
        },
        "id": "X_a3vJY0uBKV",
        "outputId": "e86f5dab-aafd-44ef-83f5-f0c7ffaf37c5"
      },
      "outputs": [
        {
          "output_type": "stream",
          "name": "stdout",
          "text": [
            "Installing Conjure version v2.5.1 and Conjure Notebook version v0.0.10...\n",
            "Conjure is already installed.\n",
            "Conjure notebook is already installed.\n",
            "Conjure: The Automated Constraint Modelling Tool\n",
            "Release version 2.5.1\n",
            "Repository version a9cbc2e (2023-11-07 23:44:00 +0000)\n"
          ]
        },
        {
          "output_type": "display_data",
          "data": {
            "text/plain": [
              "<IPython.core.display.Javascript object>"
            ],
            "application/javascript": [
              "\"use strict\";\n",
              "\n",
              "CodeMirror.defineMode(\"text/conjure\", function (config) {\n",
              "\n",
              "    var isOperatorChar = /[+\\-*=<>%^\\/]/;\n",
              "\n",
              "    var keywords = {\n",
              "        \"forall\": true,\n",
              "        \"allDifferent\": true,\n",
              "        \"allDiff\": true,\n",
              "        \"alldifferent_except\": true,\n",
              "        \"dim\": true,\n",
              "        \"toSet\": true,\n",
              "        \"toMSet\": true,\n",
              "        \"toRelation\": true,\n",
              "        \"maximising\": true,\n",
              "        \"minimising\": true,\n",
              "        \"forAll\": true,\n",
              "        \"exists\": true,\n",
              "        \"toInt\": true,\n",
              "        \"sum\": true,\n",
              "        \"be\": true,\n",
              "        \"bijective\": true,\n",
              "        \"bool\": true,\n",
              "        \"by\": true,\n",
              "        \"complete\": true,\n",
              "        \"defined\": true,\n",
              "        \"domain\": true,\n",
              "        \"in\": true,\n",
              "        \"or\": true,\n",
              "        \"and\": true,\n",
              "        \"false\": true,\n",
              "        \"find\": true,\n",
              "        \"from\": true,\n",
              "        \"function\": true,\n",
              "        \"given\": true,\n",
              "        \"image\": true,\n",
              "        \"indexed\": true,\n",
              "        \"injective\": true,\n",
              "        \"int\": true,\n",
              "        \"intersect\": true,\n",
              "        \"freq\": true,\n",
              "        \"lambda\": true,\n",
              "        \"language\": true,\n",
              "        \"letting\": true,\n",
              "        \"matrix\": true,\n",
              "        \"maxNumParts\": true,\n",
              "        \"maxOccur\": true,\n",
              "        \"maxPartSize\": true,\n",
              "        \"maxSize\": true,\n",
              "        \"minNumParts\": true,\n",
              "        \"minOccur\": true,\n",
              "        \"minPartSize\": true,\n",
              "        \"minSize\": true,\n",
              "        \"mset\": true,\n",
              "        \"numParts\": true,\n",
              "        \"of\": true,\n",
              "        \"partial\": true,\n",
              "        \"partition\": true,\n",
              "        \"partSize\": true,\n",
              "        \"preImage\": true,\n",
              "        \"quantifier\": true,\n",
              "        \"range\": true,\n",
              "        \"regular\": true,\n",
              "        \"relation\": true,\n",
              "        \"representation\": true,\n",
              "        \"set\": true,\n",
              "        \"size\": true,\n",
              "        \"subset\": true,\n",
              "        \"subsetEq\": true,\n",
              "        \"such\": true,\n",
              "        \"supset\": true,\n",
              "        \"supsetEq\": true,\n",
              "        \"surjective\": true,\n",
              "        \"that\": true,\n",
              "        \"together\": true,\n",
              "        \"enum\": true,\n",
              "        \"total\": true,\n",
              "        \"true\": true,\n",
              "        \"new\": true,\n",
              "        \"type\": true,\n",
              "        \"tuple\": true,\n",
              "        \"union\": true,\n",
              "        \"where\": true,\n",
              "        \"branching\": true,\n",
              "        \"on\": true\n",
              "    };  \n",
              "    var punc = \":;,.(){}[]\";\n",
              "\n",
              "    function tokenBase(stream, state) {\n",
              "        var ch = stream.next();\n",
              "        if (ch == '\"') {\n",
              "            state.tokenize.push(tokenString);\n",
              "            return tokenString(stream, state);\n",
              "        }\n",
              "        if (/[\\d\\.]/.test(ch)) {\n",
              "            if (ch == \".\") {\n",
              "                stream.match(/^[0-9]+([eE][\\-+]?[0-9]+)?/);\n",
              "            } else if (ch == \"0\") {\n",
              "                stream.match(/^[xX][0-9a-fA-F]+/) || stream.match(/^0[0-7]+/);\n",
              "            } else {\n",
              "                stream.match(/^[0-9]*\\.?[0-9]*([eE][\\-+]?[0-9]+)?/);\n",
              "            }\n",
              "            return \"number\";\n",
              "        }\n",
              "        if (ch == \"/\") {\n",
              "            if (stream.eat(\"*\")) {\n",
              "                state.tokenize.push(tokenComment);\n",
              "                return tokenComment(stream, state);\n",
              "            }\n",
              "        }\n",
              "        if (ch == \"$\") {\n",
              "            stream.skipToEnd();\n",
              "            return \"comment\";\n",
              "        }\n",
              "        if (isOperatorChar.test(ch)) {\n",
              "            stream.eatWhile(isOperatorChar);\n",
              "            return \"operator\";\n",
              "        }\n",
              "        if (punc.indexOf(ch) > -1) {\n",
              "            return \"punctuation\";\n",
              "        }\n",
              "        stream.eatWhile(/[\\w\\$_\\xa1-\\uffff]/);\n",
              "        var cur = stream.current();\n",
              "        \n",
              "        if (keywords.propertyIsEnumerable(cur)) {\n",
              "            return \"keyword\";\n",
              "        }\n",
              "        return \"variable\";\n",
              "    }\n",
              "\n",
              "    function tokenComment(stream, state) {\n",
              "        var maybeEnd = false, ch;\n",
              "        while (ch = stream.next()) {\n",
              "            if (ch == \"/\" && maybeEnd) {\n",
              "                state.tokenize.pop();\n",
              "                break;\n",
              "            }\n",
              "            maybeEnd = (ch == \"*\");\n",
              "        }\n",
              "        return \"comment\";\n",
              "    }\n",
              "\n",
              "    function tokenUntilClosingParen() {\n",
              "        var depth = 0;\n",
              "        return function (stream, state, prev) {\n",
              "            var inner = tokenBase(stream, state, prev);\n",
              "            console.log(\"untilClosing\", inner, stream.current());\n",
              "            if (inner == \"punctuation\") {\n",
              "                if (stream.current() == \"(\") {\n",
              "                    ++depth;\n",
              "                } else if (stream.current() == \")\") {\n",
              "                    if (depth == 0) {\n",
              "                        stream.backUp(1)\n",
              "                        state.tokenize.pop()\n",
              "                        return state.tokenize[state.tokenize.length - 1](stream, state)\n",
              "                    } else {\n",
              "                        --depth;\n",
              "                    }\n",
              "                }\n",
              "            }\n",
              "            return inner;\n",
              "        }\n",
              "    }\n",
              "\n",
              "    function tokenString(stream, state) {\n",
              "        var escaped = false, next, end = false;\n",
              "        while ((next = stream.next()) != null) {\n",
              "            if (next == '(' && escaped) {\n",
              "                state.tokenize.push(tokenUntilClosingParen());\n",
              "                return \"string\";\n",
              "            }\n",
              "            if (next == '\"' && !escaped) { end = true; break; }\n",
              "            escaped = !escaped && next == \"\\\\\";\n",
              "        }\n",
              "        if (end || !escaped)\n",
              "            state.tokenize.pop();\n",
              "        return \"string\";\n",
              "    }\n",
              "\n",
              "    return {\n",
              "        startState: function (basecolumn) {\n",
              "            return {\n",
              "                tokenize: []\n",
              "            };\n",
              "        },\n",
              "\n",
              "        token: function (stream, state) {\n",
              "            if (stream.eatSpace()) return null;\n",
              "            var style = (state.tokenize[state.tokenize.length - 1] || tokenBase)(stream, state);\n",
              "            console.log(\"token\", style);\n",
              "            return style;\n",
              "        },\n",
              "\n",
              "        blockCommentStart: \"/*\",\n",
              "        blockCommentEnd: \"*/\",\n",
              "        lineComment: \"$\"\n",
              "    };\n",
              "});\n",
              "\n",
              "\n",
              "CodeMirror.defineMIME(\"text/conjure\", \"text/conjure\");\n",
              "\n",
              "require(['notebook/js/codecell'], function (codecell) {\n",
              "    codecell.CodeCell.options_default.highlight_modes['magic_text/conjure'] = { 'reg': [/%?%conjure/] };\n",
              "    Jupyter.notebook.events.one('kernel_ready.Kernel', function () {\n",
              "        Jupyter.notebook.get_cells().map(function (cell) {\n",
              "            if (cell.cell_type == 'code') { cell.auto_highlight(); }\n",
              "        });\n",
              "    });\n",
              "});\n",
              "\n"
            ]
          },
          "metadata": {}
        },
        {
          "output_type": "display_data",
          "data": {
            "text/plain": [
              "<IPython.core.display.Markdown object>"
            ],
            "text/markdown": "Conjure extension is loaded - run `%conjure_help`"
          },
          "metadata": {}
        }
      ],
      "source": [
        "!source <(curl -s https://raw.githubusercontent.com/conjure-cp/conjure-notebook/v0.0.10/scripts/install-colab.sh)\n",
        "%reload_ext conjure\n"
      ]
    },
    {
      "cell_type": "markdown",
      "source": [
        "This is a slightly different version of the SEND+MORE=MONEY problem. It has multiple solutions, hence it can be an example of optimisation (which has a slightly amusing correlation with the MORE -> MOST transformation...)."
      ],
      "metadata": {
        "id": "lsww9zxGuGOQ"
      }
    },
    {
      "cell_type": "code",
      "source": [
        "%%conjure\n",
        "\n",
        "$ the decisions\n",
        "find S,E,N,D,M,O,T,Y : int(0..9)\n",
        "\n",
        "$ the sum\n",
        "such that\n",
        "                1000*S + 100*E + 10*N + D\n",
        "    +           1000*M + 100*O + 10*S + T\n",
        "    = 10000*M + 1000+O + 100*N + 10+E + Y\n",
        "\n",
        "$ first digits cannot be 0\n",
        "such that S>0, M>0\n",
        "\n",
        "$ distinct\n",
        "such that allDiff([S,E,N,D,M,O,T,Y])\n"
      ],
      "metadata": {
        "colab": {
          "base_uri": "https://localhost:8080/",
          "height": 337
        },
        "id": "l9ho8x2Vuavy",
        "outputId": "4d7a5f6b-a7c8-4892-ea56-fb14c6c5878d"
      },
      "execution_count": 2,
      "outputs": [
        {
          "output_type": "display_data",
          "data": {
            "text/plain": [
              "<IPython.core.display.Markdown object>"
            ],
            "text/markdown": "```json\n{\"D\": 4, \"E\": 3, \"M\": 1, \"N\": 2, \"O\": 8, \"S\": 9, \"T\": 7, \"Y\": 0}\n```"
          },
          "metadata": {}
        },
        {
          "output_type": "display_data",
          "data": {
            "text/plain": [
              "<IPython.core.display.Markdown object>"
            ],
            "text/markdown": "| Statistic | Value |\n|:-|-:|\n| SolverTotalTime | 0.000 |\n| SavileRowClauseOut | 0 |\n| SavileRowTotalTime | 0.212 |\n| SolverFailures | 0 |\n| SolverSatisfiable | 1 |\n| SavileRowTimeOut | 0 |\n| SolverTimeOut | 0 |\n| SolverNodes | 3 |\n"
          },
          "metadata": {}
        }
      ]
    },
    {
      "cell_type": "markdown",
      "source": [
        "That's a solution, OK. Let's list all solutions."
      ],
      "metadata": {
        "id": "4s1pXxIdumMb"
      }
    },
    {
      "cell_type": "code",
      "source": [
        "%%conjure+ --number-of-solutions=all\n"
      ],
      "metadata": {
        "colab": {
          "base_uri": "https://localhost:8080/",
          "height": 385
        },
        "id": "Y1awcjLqupYF",
        "outputId": "378966c9-8c0c-4ee1-a14c-300cd6ffee13"
      },
      "execution_count": 3,
      "outputs": [
        {
          "output_type": "display_data",
          "data": {
            "text/plain": [
              "<IPython.core.display.Markdown object>"
            ],
            "text/markdown": "## Solution 1"
          },
          "metadata": {}
        },
        {
          "output_type": "display_data",
          "data": {
            "text/plain": [
              "<IPython.core.display.Markdown object>"
            ],
            "text/markdown": "```json\n[{\"D\": 4, \"E\": 3, \"M\": 1, \"N\": 2, \"O\": 8, \"S\": 9, \"T\": 7, \"Y\": 0}, {\"D\": 5, \"E\": 3, \"M\": 1, \"N\": 2, \"O\": 8, \"S\": 9, \"T\": 6, \"Y\": 0}, {\"D\": 6, \"E\": 3, \"M\": 1, \"N\": 2, \"O\": 8, \"S\": 9, \"T\": 5, \"Y\": 0}, {\"D\": 7, \"E\": 3, \"M\": 1, \"N\": 2, \"O\": 8, \"S\": 9, \"T\": 4, \"Y\": 0}, {\"D\": 3, \"E\": 4, \"M\": 1, \"N\": 2, \"O\": 7, \"S\": 9, \"T\": 8, \"Y\": 0}, {\"D\": 5, \"E\": 4, \"M\": 1, \"N\": 2, \"O\": 7, \"S\": 9, \"T\": 6, \"Y\": 0}, {\"D\": 6, \"E\": 4, \"M\": 1, \"N\": 2, \"O\": 7, \"S\": 9, \"T\": 5, \"Y\": 0}, {\"D\": 6, \"E\": 4, \"M\": 1, \"N\": 2, \"O\": 7, \"S\": 9, \"T\": 8, \"Y\": 3}, {\"D\": 8, \"E\": 4, \"M\": 1, \"N\": 2, \"O\": 7, \"S\": 9, \"T\": 3, \"Y\": 0}, {\"D\": 8, \"E\": 4, \"M\": 1, \"N\": 2, \"O\": 7, \"S\": 9, \"T\": 6, \"Y\": 3}, {\"D\": 0, \"E\": 4, \"M\": 1, \"N\": 3, \"O\": 8, \"S\": 9, \"T\": 7, \"Y\": 5}, {\"D\": 7, \"E\": 4, \"M\": 1, \"N\": 3, \"O\": 8, \"S\": 9, \"T\": 0, \"Y\": 5}, {\"D\": 3, \"E\": 5, \"M\": 1, \"N\": 2, \"O\": 6, \"S\": 9, \"T\": 8, \"Y\": 0}, {\"D\": 4, \"E\": 5, \"M\": 1, \"N\": 2, \"O\": 6, \"S\": 9, \"T\": 7, \"Y\": 0}, {\"D\": 7, \"E\": 5, \"M\": 1, \"N\": 2, \"O\": 6, \"S\": 9, \"T\": 4, \"Y\": 0}, {\"D\": 7, \"E\": 5, \"M\": 1, \"N\": 2, \"O\": 6, \"S\": 9, \"T\": 8, \"Y\": 4}, {\"D\": 8, \"E\": 5, \"M\": 1, \"N\": 2, \"O\": 6, \"S\": 9, \"T\": 3, \"Y\": 0}, {\"D\": 8, \"E\": 5, \"M\": 1, \"N\": 2, \"O\": 6, \"S\": 9, \"T\": 7, \"Y\": 4}, {\"D\": 0, \"E\": 5, \"M\": 1, \"N\": 3, \"O\": 7, \"S\": 9, \"T\": 4, \"Y\": 2}, {\"D\": 0, \"E\": 5, \"M\": 1, \"N\": 3, \"O\": 7, \"S\": 9, \"T\": 6, \"Y\": 4}, {\"D\": 0, \"E\": 5, \"M\": 1, \"N\": 3, \"O\": 7, \"S\": 9, \"T\": 8, \"Y\": 6}, {\"D\": 4, \"E\": 5, \"M\": 1, \"N\": 3, \"O\": 7, \"S\": 9, \"T\": 0, \"Y\": 2}, {\"D\": 4, \"E\": 5, \"M\": 1, \"N\": 3, \"O\": 7, \"S\": 9, \"T\": 6, \"Y\": 8}, {\"D\": 6, \"E\": 5, \"M\": 1, \"N\": 3, \"O\": 7, \"S\": 9, \"T\": 0, \"Y\": 4}, {\"D\": 6, \"E\": 5, \"M\": 1, \"N\": 3, \"O\": 7, \"S\": 9, \"T\": 4, \"Y\": 8}, {\"D\": 8, \"E\": 5, \"M\": 1, \"N\": 3, \"O\": 7, \"S\": 9, \"T\": 0, \"Y\": 6}, {\"D\": 3, \"E\": 6, \"M\": 1, \"N\": 2, \"O\": 5, \"S\": 9, \"T\": 8, \"Y\": 0}, {\"D\": 4, \"E\": 6, \"M\": 1, \"N\": 2, \"O\": 5, \"S\": 9, \"T\": 7, \"Y\": 0}, {\"D\": 7, \"E\": 6, \"M\": 1, \"N\": 2, \"O\": 5, \"S\": 9, \"T\": 4, \"Y\": 0}, {\"D\": 7, \"E\": 6, \"M\": 1, \"N\": 2, \"O\": 5, \"S\": 9, \"T\": 8, \"Y\": 4}, {\"D\": 8, \"E\": 6, \"M\": 1, \"N\": 2, \"O\": 5, \"S\": 9, \"T\": 3, \"Y\": 0}, {\"D\": 8, \"E\": 6, \"M\": 1, \"N\": 2, \"O\": 5, \"S\": 9, \"T\": 7, \"Y\": 4}, {\"D\": 3, \"E\": 7, \"M\": 1, \"N\": 2, \"O\": 4, \"S\": 9, \"T\": 8, \"Y\": 0}, {\"D\": 5, \"E\": 7, \"M\": 1, \"N\": 2, \"O\": 4, \"S\": 9, \"T\": 6, \"Y\": 0}, {\"D\": 6, \"E\": 7, \"M\": 1, \"N\": 2, \"O\": 4, \"S\": 9, \"T\": 5, \"Y\": 0}, {\"D\": 6, \"E\": 7, \"M\": 1, \"N\": 2, \"O\": 4, \"S\": 9, \"T\": 8, \"Y\": 3}, {\"D\": 8, \"E\": 7, \"M\": 1, \"N\": 2, \"O\": 4, \"S\": 9, \"T\": 3, \"Y\": 0}, {\"D\": 8, \"E\": 7, \"M\": 1, \"N\": 2, \"O\": 4, \"S\": 9, \"T\": 6, \"Y\": 3}, {\"D\": 0, \"E\": 7, \"M\": 1, \"N\": 3, \"O\": 5, \"S\": 9, \"T\": 4, \"Y\": 2}, {\"D\": 0, \"E\": 7, \"M\": 1, \"N\": 3, \"O\": 5, \"S\": 9, \"T\": 6, \"Y\": 4}, {\"D\": 0, \"E\": 7, \"M\": 1, \"N\": 3, \"O\": 5, \"S\": 9, \"T\": 8, \"Y\": 6}, {\"D\": 4, \"E\": 7, \"M\": 1, \"N\": 3, \"O\": 5, \"S\": 9, \"T\": 0, \"Y\": 2}, {\"D\": 4, \"E\": 7, \"M\": 1, \"N\": 3, \"O\": 5, \"S\": 9, \"T\": 6, \"Y\": 8}, {\"D\": 6, \"E\": 7, \"M\": 1, \"N\": 3, \"O\": 5, \"S\": 9, \"T\": 0, \"Y\": 4}, {\"D\": 6, \"E\": 7, \"M\": 1, \"N\": 3, \"O\": 5, \"S\": 9, \"T\": 4, \"Y\": 8}, {\"D\": 8, \"E\": 7, \"M\": 1, \"N\": 3, \"O\": 5, \"S\": 9, \"T\": 0, \"Y\": 6}, {\"D\": 4, \"E\": 8, \"M\": 1, \"N\": 2, \"O\": 3, \"S\": 9, \"T\": 7, \"Y\": 0}, {\"D\": 5, \"E\": 8, \"M\": 1, \"N\": 2, \"O\": 3, \"S\": 9, \"T\": 6, \"Y\": 0}, {\"D\": 6, \"E\": 8, \"M\": 1, \"N\": 2, \"O\": 3, \"S\": 9, \"T\": 5, \"Y\": 0}, {\"D\": 7, \"E\": 8, \"M\": 1, \"N\": 2, \"O\": 3, \"S\": 9, \"T\": 4, \"Y\": 0}, {\"D\": 0, \"E\": 8, \"M\": 1, \"N\": 3, \"O\": 4, \"S\": 9, \"T\": 7, \"Y\": 5}, {\"D\": 7, \"E\": 8, \"M\": 1, \"N\": 3, \"O\": 4, \"S\": 9, \"T\": 0, \"Y\": 5}]\n```"
          },
          "metadata": {}
        },
        {
          "output_type": "display_data",
          "data": {
            "text/plain": [
              "<IPython.core.display.Markdown object>"
            ],
            "text/markdown": "| Statistic | Value |\n|:-|-:|\n| SolverTotalTime | 0.002 |\n| SavileRowClauseOut | 0 |\n| SavileRowTotalTime | 0.093 |\n| SolverFailures | 81 |\n| SolverSatisfiable | 1 |\n| SavileRowTimeOut | 0 |\n| SolverTimeOut | 0 |\n| SolverNodes | 81 |\n"
          },
          "metadata": {}
        }
      ]
    },
    {
      "cell_type": "code",
      "source": [
        "print(f\"There are {len(conjure_solutions)} solutions.\")"
      ],
      "metadata": {
        "colab": {
          "base_uri": "https://localhost:8080/"
        },
        "id": "IAnwEI1SuvMk",
        "outputId": "e5887b51-9d70-4ffe-af62-30c5aa29717e"
      },
      "execution_count": 4,
      "outputs": [
        {
          "output_type": "stream",
          "name": "stdout",
          "text": [
            "There are 52 solutions.\n"
          ]
        }
      ]
    },
    {
      "cell_type": "markdown",
      "source": [
        "Let's overwrite solution printing, and also calculate the sum in the model and rerun for all solutions."
      ],
      "metadata": {
        "id": "186pL2p5vfFy"
      }
    },
    {
      "cell_type": "code",
      "source": [
        "def conjure_display_solution():\n",
        "    print(S,E,N,D, \"+\", M,O,S,T, \"=\", M,O,N,E,Y, f\" (money is {MONEY})\")"
      ],
      "metadata": {
        "id": "TGBLPylUvSSw"
      },
      "execution_count": 5,
      "outputs": []
    },
    {
      "cell_type": "code",
      "source": [
        "%%conjure+ --number-of-solutions=all\n",
        "\n",
        "$ being very generous with the bounds here.\n",
        "$ we could come up with a tighter bound, but really there is no need.\n",
        "find MONEY : int(0..99999)\n",
        "such that MONEY = 10000*M + 1000*O + 100*N + 10*E + Y\n"
      ],
      "metadata": {
        "colab": {
          "base_uri": "https://localhost:8080/",
          "height": 1000
        },
        "id": "0APjXWzpvoiR",
        "outputId": "b402cda0-3bc3-4030-986f-f7cf80afb2b2"
      },
      "execution_count": 6,
      "outputs": [
        {
          "output_type": "display_data",
          "data": {
            "text/plain": [
              "<IPython.core.display.Markdown object>"
            ],
            "text/markdown": "## Solution 1"
          },
          "metadata": {}
        },
        {
          "output_type": "stream",
          "name": "stdout",
          "text": [
            "9 3 2 4 + 1 8 9 7 = 1 8 2 3 0  (money is 18230)\n"
          ]
        },
        {
          "output_type": "display_data",
          "data": {
            "text/plain": [
              "<IPython.core.display.Markdown object>"
            ],
            "text/markdown": "## Solution 2"
          },
          "metadata": {}
        },
        {
          "output_type": "stream",
          "name": "stdout",
          "text": [
            "9 3 2 5 + 1 8 9 6 = 1 8 2 3 0  (money is 18230)\n"
          ]
        },
        {
          "output_type": "display_data",
          "data": {
            "text/plain": [
              "<IPython.core.display.Markdown object>"
            ],
            "text/markdown": "## Solution 3"
          },
          "metadata": {}
        },
        {
          "output_type": "stream",
          "name": "stdout",
          "text": [
            "9 3 2 6 + 1 8 9 5 = 1 8 2 3 0  (money is 18230)\n"
          ]
        },
        {
          "output_type": "display_data",
          "data": {
            "text/plain": [
              "<IPython.core.display.Markdown object>"
            ],
            "text/markdown": "## Solution 4"
          },
          "metadata": {}
        },
        {
          "output_type": "stream",
          "name": "stdout",
          "text": [
            "9 3 2 7 + 1 8 9 4 = 1 8 2 3 0  (money is 18230)\n"
          ]
        },
        {
          "output_type": "display_data",
          "data": {
            "text/plain": [
              "<IPython.core.display.Markdown object>"
            ],
            "text/markdown": "## Solution 5"
          },
          "metadata": {}
        },
        {
          "output_type": "stream",
          "name": "stdout",
          "text": [
            "9 4 2 3 + 1 7 9 8 = 1 7 2 4 0  (money is 17240)\n"
          ]
        },
        {
          "output_type": "display_data",
          "data": {
            "text/plain": [
              "<IPython.core.display.Markdown object>"
            ],
            "text/markdown": "## Solution 6"
          },
          "metadata": {}
        },
        {
          "output_type": "stream",
          "name": "stdout",
          "text": [
            "9 4 2 5 + 1 7 9 6 = 1 7 2 4 0  (money is 17240)\n"
          ]
        },
        {
          "output_type": "display_data",
          "data": {
            "text/plain": [
              "<IPython.core.display.Markdown object>"
            ],
            "text/markdown": "## Solution 7"
          },
          "metadata": {}
        },
        {
          "output_type": "stream",
          "name": "stdout",
          "text": [
            "9 4 2 6 + 1 7 9 5 = 1 7 2 4 0  (money is 17240)\n"
          ]
        },
        {
          "output_type": "display_data",
          "data": {
            "text/plain": [
              "<IPython.core.display.Markdown object>"
            ],
            "text/markdown": "## Solution 8"
          },
          "metadata": {}
        },
        {
          "output_type": "stream",
          "name": "stdout",
          "text": [
            "9 4 2 6 + 1 7 9 8 = 1 7 2 4 3  (money is 17243)\n"
          ]
        },
        {
          "output_type": "display_data",
          "data": {
            "text/plain": [
              "<IPython.core.display.Markdown object>"
            ],
            "text/markdown": "## Solution 9"
          },
          "metadata": {}
        },
        {
          "output_type": "stream",
          "name": "stdout",
          "text": [
            "9 4 2 8 + 1 7 9 3 = 1 7 2 4 0  (money is 17240)\n"
          ]
        },
        {
          "output_type": "display_data",
          "data": {
            "text/plain": [
              "<IPython.core.display.Markdown object>"
            ],
            "text/markdown": "## Solution 10"
          },
          "metadata": {}
        },
        {
          "output_type": "stream",
          "name": "stdout",
          "text": [
            "9 4 2 8 + 1 7 9 6 = 1 7 2 4 3  (money is 17243)\n"
          ]
        },
        {
          "output_type": "display_data",
          "data": {
            "text/plain": [
              "<IPython.core.display.Markdown object>"
            ],
            "text/markdown": "## Solution 11"
          },
          "metadata": {}
        },
        {
          "output_type": "stream",
          "name": "stdout",
          "text": [
            "9 4 3 0 + 1 8 9 7 = 1 8 3 4 5  (money is 18345)\n"
          ]
        },
        {
          "output_type": "display_data",
          "data": {
            "text/plain": [
              "<IPython.core.display.Markdown object>"
            ],
            "text/markdown": "## Solution 12"
          },
          "metadata": {}
        },
        {
          "output_type": "stream",
          "name": "stdout",
          "text": [
            "9 4 3 7 + 1 8 9 0 = 1 8 3 4 5  (money is 18345)\n"
          ]
        },
        {
          "output_type": "display_data",
          "data": {
            "text/plain": [
              "<IPython.core.display.Markdown object>"
            ],
            "text/markdown": "## Solution 13"
          },
          "metadata": {}
        },
        {
          "output_type": "stream",
          "name": "stdout",
          "text": [
            "9 5 2 3 + 1 6 9 8 = 1 6 2 5 0  (money is 16250)\n"
          ]
        },
        {
          "output_type": "display_data",
          "data": {
            "text/plain": [
              "<IPython.core.display.Markdown object>"
            ],
            "text/markdown": "## Solution 14"
          },
          "metadata": {}
        },
        {
          "output_type": "stream",
          "name": "stdout",
          "text": [
            "9 5 2 4 + 1 6 9 7 = 1 6 2 5 0  (money is 16250)\n"
          ]
        },
        {
          "output_type": "display_data",
          "data": {
            "text/plain": [
              "<IPython.core.display.Markdown object>"
            ],
            "text/markdown": "## Solution 15"
          },
          "metadata": {}
        },
        {
          "output_type": "stream",
          "name": "stdout",
          "text": [
            "9 5 2 7 + 1 6 9 4 = 1 6 2 5 0  (money is 16250)\n"
          ]
        },
        {
          "output_type": "display_data",
          "data": {
            "text/plain": [
              "<IPython.core.display.Markdown object>"
            ],
            "text/markdown": "## Solution 16"
          },
          "metadata": {}
        },
        {
          "output_type": "stream",
          "name": "stdout",
          "text": [
            "9 5 2 7 + 1 6 9 8 = 1 6 2 5 4  (money is 16254)\n"
          ]
        },
        {
          "output_type": "display_data",
          "data": {
            "text/plain": [
              "<IPython.core.display.Markdown object>"
            ],
            "text/markdown": "## Solution 17"
          },
          "metadata": {}
        },
        {
          "output_type": "stream",
          "name": "stdout",
          "text": [
            "9 5 2 8 + 1 6 9 3 = 1 6 2 5 0  (money is 16250)\n"
          ]
        },
        {
          "output_type": "display_data",
          "data": {
            "text/plain": [
              "<IPython.core.display.Markdown object>"
            ],
            "text/markdown": "## Solution 18"
          },
          "metadata": {}
        },
        {
          "output_type": "stream",
          "name": "stdout",
          "text": [
            "9 5 2 8 + 1 6 9 7 = 1 6 2 5 4  (money is 16254)\n"
          ]
        },
        {
          "output_type": "display_data",
          "data": {
            "text/plain": [
              "<IPython.core.display.Markdown object>"
            ],
            "text/markdown": "## Solution 19"
          },
          "metadata": {}
        },
        {
          "output_type": "stream",
          "name": "stdout",
          "text": [
            "9 5 3 0 + 1 7 9 4 = 1 7 3 5 2  (money is 17352)\n"
          ]
        },
        {
          "output_type": "display_data",
          "data": {
            "text/plain": [
              "<IPython.core.display.Markdown object>"
            ],
            "text/markdown": "## Solution 20"
          },
          "metadata": {}
        },
        {
          "output_type": "stream",
          "name": "stdout",
          "text": [
            "9 5 3 0 + 1 7 9 6 = 1 7 3 5 4  (money is 17354)\n"
          ]
        },
        {
          "output_type": "display_data",
          "data": {
            "text/plain": [
              "<IPython.core.display.Markdown object>"
            ],
            "text/markdown": "## Solution 21"
          },
          "metadata": {}
        },
        {
          "output_type": "stream",
          "name": "stdout",
          "text": [
            "9 5 3 0 + 1 7 9 8 = 1 7 3 5 6  (money is 17356)\n"
          ]
        },
        {
          "output_type": "display_data",
          "data": {
            "text/plain": [
              "<IPython.core.display.Markdown object>"
            ],
            "text/markdown": "## Solution 22"
          },
          "metadata": {}
        },
        {
          "output_type": "stream",
          "name": "stdout",
          "text": [
            "9 5 3 4 + 1 7 9 0 = 1 7 3 5 2  (money is 17352)\n"
          ]
        },
        {
          "output_type": "display_data",
          "data": {
            "text/plain": [
              "<IPython.core.display.Markdown object>"
            ],
            "text/markdown": "## Solution 23"
          },
          "metadata": {}
        },
        {
          "output_type": "stream",
          "name": "stdout",
          "text": [
            "9 5 3 4 + 1 7 9 6 = 1 7 3 5 8  (money is 17358)\n"
          ]
        },
        {
          "output_type": "display_data",
          "data": {
            "text/plain": [
              "<IPython.core.display.Markdown object>"
            ],
            "text/markdown": "## Solution 24"
          },
          "metadata": {}
        },
        {
          "output_type": "stream",
          "name": "stdout",
          "text": [
            "9 5 3 6 + 1 7 9 0 = 1 7 3 5 4  (money is 17354)\n"
          ]
        },
        {
          "output_type": "display_data",
          "data": {
            "text/plain": [
              "<IPython.core.display.Markdown object>"
            ],
            "text/markdown": "## Solution 25"
          },
          "metadata": {}
        },
        {
          "output_type": "stream",
          "name": "stdout",
          "text": [
            "9 5 3 6 + 1 7 9 4 = 1 7 3 5 8  (money is 17358)\n"
          ]
        },
        {
          "output_type": "display_data",
          "data": {
            "text/plain": [
              "<IPython.core.display.Markdown object>"
            ],
            "text/markdown": "## Solution 26"
          },
          "metadata": {}
        },
        {
          "output_type": "stream",
          "name": "stdout",
          "text": [
            "9 5 3 8 + 1 7 9 0 = 1 7 3 5 6  (money is 17356)\n"
          ]
        },
        {
          "output_type": "display_data",
          "data": {
            "text/plain": [
              "<IPython.core.display.Markdown object>"
            ],
            "text/markdown": "## Solution 27"
          },
          "metadata": {}
        },
        {
          "output_type": "stream",
          "name": "stdout",
          "text": [
            "9 6 2 3 + 1 5 9 8 = 1 5 2 6 0  (money is 15260)\n"
          ]
        },
        {
          "output_type": "display_data",
          "data": {
            "text/plain": [
              "<IPython.core.display.Markdown object>"
            ],
            "text/markdown": "## Solution 28"
          },
          "metadata": {}
        },
        {
          "output_type": "stream",
          "name": "stdout",
          "text": [
            "9 6 2 4 + 1 5 9 7 = 1 5 2 6 0  (money is 15260)\n"
          ]
        },
        {
          "output_type": "display_data",
          "data": {
            "text/plain": [
              "<IPython.core.display.Markdown object>"
            ],
            "text/markdown": "## Solution 29"
          },
          "metadata": {}
        },
        {
          "output_type": "stream",
          "name": "stdout",
          "text": [
            "9 6 2 7 + 1 5 9 4 = 1 5 2 6 0  (money is 15260)\n"
          ]
        },
        {
          "output_type": "display_data",
          "data": {
            "text/plain": [
              "<IPython.core.display.Markdown object>"
            ],
            "text/markdown": "## Solution 30"
          },
          "metadata": {}
        },
        {
          "output_type": "stream",
          "name": "stdout",
          "text": [
            "9 6 2 7 + 1 5 9 8 = 1 5 2 6 4  (money is 15264)\n"
          ]
        },
        {
          "output_type": "display_data",
          "data": {
            "text/plain": [
              "<IPython.core.display.Markdown object>"
            ],
            "text/markdown": "## Solution 31"
          },
          "metadata": {}
        },
        {
          "output_type": "stream",
          "name": "stdout",
          "text": [
            "9 6 2 8 + 1 5 9 3 = 1 5 2 6 0  (money is 15260)\n"
          ]
        },
        {
          "output_type": "display_data",
          "data": {
            "text/plain": [
              "<IPython.core.display.Markdown object>"
            ],
            "text/markdown": "## Solution 32"
          },
          "metadata": {}
        },
        {
          "output_type": "stream",
          "name": "stdout",
          "text": [
            "9 6 2 8 + 1 5 9 7 = 1 5 2 6 4  (money is 15264)\n"
          ]
        },
        {
          "output_type": "display_data",
          "data": {
            "text/plain": [
              "<IPython.core.display.Markdown object>"
            ],
            "text/markdown": "## Solution 33"
          },
          "metadata": {}
        },
        {
          "output_type": "stream",
          "name": "stdout",
          "text": [
            "9 7 2 3 + 1 4 9 8 = 1 4 2 7 0  (money is 14270)\n"
          ]
        },
        {
          "output_type": "display_data",
          "data": {
            "text/plain": [
              "<IPython.core.display.Markdown object>"
            ],
            "text/markdown": "## Solution 34"
          },
          "metadata": {}
        },
        {
          "output_type": "stream",
          "name": "stdout",
          "text": [
            "9 7 2 5 + 1 4 9 6 = 1 4 2 7 0  (money is 14270)\n"
          ]
        },
        {
          "output_type": "display_data",
          "data": {
            "text/plain": [
              "<IPython.core.display.Markdown object>"
            ],
            "text/markdown": "## Solution 35"
          },
          "metadata": {}
        },
        {
          "output_type": "stream",
          "name": "stdout",
          "text": [
            "9 7 2 6 + 1 4 9 5 = 1 4 2 7 0  (money is 14270)\n"
          ]
        },
        {
          "output_type": "display_data",
          "data": {
            "text/plain": [
              "<IPython.core.display.Markdown object>"
            ],
            "text/markdown": "## Solution 36"
          },
          "metadata": {}
        },
        {
          "output_type": "stream",
          "name": "stdout",
          "text": [
            "9 7 2 6 + 1 4 9 8 = 1 4 2 7 3  (money is 14273)\n"
          ]
        },
        {
          "output_type": "display_data",
          "data": {
            "text/plain": [
              "<IPython.core.display.Markdown object>"
            ],
            "text/markdown": "## Solution 37"
          },
          "metadata": {}
        },
        {
          "output_type": "stream",
          "name": "stdout",
          "text": [
            "9 7 2 8 + 1 4 9 3 = 1 4 2 7 0  (money is 14270)\n"
          ]
        },
        {
          "output_type": "display_data",
          "data": {
            "text/plain": [
              "<IPython.core.display.Markdown object>"
            ],
            "text/markdown": "## Solution 38"
          },
          "metadata": {}
        },
        {
          "output_type": "stream",
          "name": "stdout",
          "text": [
            "9 7 2 8 + 1 4 9 6 = 1 4 2 7 3  (money is 14273)\n"
          ]
        },
        {
          "output_type": "display_data",
          "data": {
            "text/plain": [
              "<IPython.core.display.Markdown object>"
            ],
            "text/markdown": "## Solution 39"
          },
          "metadata": {}
        },
        {
          "output_type": "stream",
          "name": "stdout",
          "text": [
            "9 7 3 0 + 1 5 9 4 = 1 5 3 7 2  (money is 15372)\n"
          ]
        },
        {
          "output_type": "display_data",
          "data": {
            "text/plain": [
              "<IPython.core.display.Markdown object>"
            ],
            "text/markdown": "## Solution 40"
          },
          "metadata": {}
        },
        {
          "output_type": "stream",
          "name": "stdout",
          "text": [
            "9 7 3 0 + 1 5 9 6 = 1 5 3 7 4  (money is 15374)\n"
          ]
        },
        {
          "output_type": "display_data",
          "data": {
            "text/plain": [
              "<IPython.core.display.Markdown object>"
            ],
            "text/markdown": "## Solution 41"
          },
          "metadata": {}
        },
        {
          "output_type": "stream",
          "name": "stdout",
          "text": [
            "9 7 3 0 + 1 5 9 8 = 1 5 3 7 6  (money is 15376)\n"
          ]
        },
        {
          "output_type": "display_data",
          "data": {
            "text/plain": [
              "<IPython.core.display.Markdown object>"
            ],
            "text/markdown": "## Solution 42"
          },
          "metadata": {}
        },
        {
          "output_type": "stream",
          "name": "stdout",
          "text": [
            "9 7 3 4 + 1 5 9 0 = 1 5 3 7 2  (money is 15372)\n"
          ]
        },
        {
          "output_type": "display_data",
          "data": {
            "text/plain": [
              "<IPython.core.display.Markdown object>"
            ],
            "text/markdown": "## Solution 43"
          },
          "metadata": {}
        },
        {
          "output_type": "stream",
          "name": "stdout",
          "text": [
            "9 7 3 4 + 1 5 9 6 = 1 5 3 7 8  (money is 15378)\n"
          ]
        },
        {
          "output_type": "display_data",
          "data": {
            "text/plain": [
              "<IPython.core.display.Markdown object>"
            ],
            "text/markdown": "## Solution 44"
          },
          "metadata": {}
        },
        {
          "output_type": "stream",
          "name": "stdout",
          "text": [
            "9 7 3 6 + 1 5 9 0 = 1 5 3 7 4  (money is 15374)\n"
          ]
        },
        {
          "output_type": "display_data",
          "data": {
            "text/plain": [
              "<IPython.core.display.Markdown object>"
            ],
            "text/markdown": "## Solution 45"
          },
          "metadata": {}
        },
        {
          "output_type": "stream",
          "name": "stdout",
          "text": [
            "9 7 3 6 + 1 5 9 4 = 1 5 3 7 8  (money is 15378)\n"
          ]
        },
        {
          "output_type": "display_data",
          "data": {
            "text/plain": [
              "<IPython.core.display.Markdown object>"
            ],
            "text/markdown": "## Solution 46"
          },
          "metadata": {}
        },
        {
          "output_type": "stream",
          "name": "stdout",
          "text": [
            "9 7 3 8 + 1 5 9 0 = 1 5 3 7 6  (money is 15376)\n"
          ]
        },
        {
          "output_type": "display_data",
          "data": {
            "text/plain": [
              "<IPython.core.display.Markdown object>"
            ],
            "text/markdown": "## Solution 47"
          },
          "metadata": {}
        },
        {
          "output_type": "stream",
          "name": "stdout",
          "text": [
            "9 8 2 4 + 1 3 9 7 = 1 3 2 8 0  (money is 13280)\n"
          ]
        },
        {
          "output_type": "display_data",
          "data": {
            "text/plain": [
              "<IPython.core.display.Markdown object>"
            ],
            "text/markdown": "## Solution 48"
          },
          "metadata": {}
        },
        {
          "output_type": "stream",
          "name": "stdout",
          "text": [
            "9 8 2 5 + 1 3 9 6 = 1 3 2 8 0  (money is 13280)\n"
          ]
        },
        {
          "output_type": "display_data",
          "data": {
            "text/plain": [
              "<IPython.core.display.Markdown object>"
            ],
            "text/markdown": "## Solution 49"
          },
          "metadata": {}
        },
        {
          "output_type": "stream",
          "name": "stdout",
          "text": [
            "9 8 2 6 + 1 3 9 5 = 1 3 2 8 0  (money is 13280)\n"
          ]
        },
        {
          "output_type": "display_data",
          "data": {
            "text/plain": [
              "<IPython.core.display.Markdown object>"
            ],
            "text/markdown": "## Solution 50"
          },
          "metadata": {}
        },
        {
          "output_type": "stream",
          "name": "stdout",
          "text": [
            "9 8 2 7 + 1 3 9 4 = 1 3 2 8 0  (money is 13280)\n"
          ]
        },
        {
          "output_type": "display_data",
          "data": {
            "text/plain": [
              "<IPython.core.display.Markdown object>"
            ],
            "text/markdown": "## Solution 51"
          },
          "metadata": {}
        },
        {
          "output_type": "stream",
          "name": "stdout",
          "text": [
            "9 8 3 0 + 1 4 9 7 = 1 4 3 8 5  (money is 14385)\n"
          ]
        },
        {
          "output_type": "display_data",
          "data": {
            "text/plain": [
              "<IPython.core.display.Markdown object>"
            ],
            "text/markdown": "## Solution 52"
          },
          "metadata": {}
        },
        {
          "output_type": "stream",
          "name": "stdout",
          "text": [
            "9 8 3 7 + 1 4 9 0 = 1 4 3 8 5  (money is 14385)\n"
          ]
        },
        {
          "output_type": "display_data",
          "data": {
            "text/plain": [
              "<IPython.core.display.Markdown object>"
            ],
            "text/markdown": "| Statistic | Value |\n|:-|-:|\n| SolverTotalTime | 0.002 |\n| SavileRowClauseOut | 0 |\n| SavileRowTotalTime | 0.101 |\n| SolverFailures | 75 |\n| SolverSatisfiable | 1 |\n| SavileRowTimeOut | 0 |\n| SolverTimeOut | 0 |\n| SolverNodes | 75 |\n"
          },
          "metadata": {}
        }
      ]
    },
    {
      "cell_type": "markdown",
      "source": [
        "Instead we could have optimised (maximising MONEY). This would give us one of the optimal solutions.\n",
        "\n",
        "If you look at the enumeration above you can in fact see two optimal solutions. However, enumerating all solutions is not practical. Another way of finding all optimal solutions is to find an optimal solution, then solve a solution enumeration problem with the optimal solution added as a constraint. Left as an exercise to the reader."
      ],
      "metadata": {
        "id": "wiW7sODbvzie"
      }
    },
    {
      "cell_type": "code",
      "source": [
        "%%conjure+\n",
        "\n",
        "maximising MONEY\n"
      ],
      "metadata": {
        "colab": {
          "base_uri": "https://localhost:8080/",
          "height": 338
        },
        "id": "Aqt1q_VIu2KJ",
        "outputId": "fae77eeb-fb80-43f5-c0f5-5e6eabf04ca6"
      },
      "execution_count": 7,
      "outputs": [
        {
          "output_type": "stream",
          "name": "stdout",
          "text": [
            "9 4 3 0 + 1 8 9 7 = 1 8 3 4 5  (money is 18345)\n"
          ]
        },
        {
          "output_type": "display_data",
          "data": {
            "text/plain": [
              "<IPython.core.display.Markdown object>"
            ],
            "text/markdown": "| Statistic | Value |\n|:-|-:|\n| SolverTotalTime | 0.001 |\n| SavileRowClauseOut | 0 |\n| SavileRowTotalTime | 0.105 |\n| SolverFailures | 1 |\n| SolverSatisfiable | 1 |\n| SavileRowTimeOut | 0 |\n| SolverTimeOut | 0 |\n| SolverNodes | 6 |\n"
          },
          "metadata": {}
        }
      ]
    },
    {
      "cell_type": "code",
      "source": [
        "print(\"     \", S,E,N,D)\n",
        "print(\" +   \", M,O,S,T)\n",
        "print(\" = \", M,O,N,E,Y)\n"
      ],
      "metadata": {
        "colab": {
          "base_uri": "https://localhost:8080/"
        },
        "id": "1l1Zj2W7u-xv",
        "outputId": "dd5e4446-0141-423a-a50f-a4761f221598"
      },
      "execution_count": 8,
      "outputs": [
        {
          "output_type": "stream",
          "name": "stdout",
          "text": [
            "      9 4 3 0\n",
            " +    1 8 9 7\n",
            " =  1 8 3 4 5\n"
          ]
        }
      ]
    }
  ]
}