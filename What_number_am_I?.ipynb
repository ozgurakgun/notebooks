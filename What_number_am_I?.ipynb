{
  "nbformat": 4,
  "nbformat_minor": 0,
  "metadata": {
    "colab": {
      "name": "What number am I?",
      "provenance": [],
      "collapsed_sections": [],
      "authorship_tag": "ABX9TyPw7HMLkWvngKJ6FJtd9fha",
      "include_colab_link": true
    },
    "kernelspec": {
      "name": "python3",
      "display_name": "Python 3"
    },
    "language_info": {
      "name": "python"
    }
  },
  "cells": [
    {
      "cell_type": "markdown",
      "metadata": {
        "id": "view-in-github",
        "colab_type": "text"
      },
      "source": [
        "<a href=\"https://colab.research.google.com/github/ozgurakgun/notebooks/blob/main/What_number_am_I%3F.ipynb\" target=\"_parent\"><img src=\"https://colab.research.google.com/assets/colab-badge.svg\" alt=\"Open In Colab\"/></a>"
      ]
    },
    {
      "cell_type": "markdown",
      "source": [
        "For context, see https://twitter.com/ozgurakgun/status/1516105558738284548"
      ],
      "metadata": {
        "id": "tFQQBUcEsfXy"
      }
    },
    {
      "cell_type": "code",
      "execution_count": null,
      "metadata": {
        "colab": {
          "base_uri": "https://localhost:8080/"
        },
        "id": "4P_ElJmesdq6",
        "outputId": "c0b25a7b-3db7-4b09-8c05-3400e0e965c6"
      },
      "outputs": [
        {
          "output_type": "stream",
          "name": "stdout",
          "text": [
            "  % Total    % Received % Xferd  Average Speed   Time    Time     Time  Current\n",
            "                                 Dload  Upload   Total   Spent    Left  Speed\n",
            "\r  0     0    0     0    0     0      0      0 --:--:-- --:--:-- --:--:--     0\r100   434  100   434    0     0   3500      0 --:--:-- --:--:-- --:--:--  3500\n",
            "Cloning into 'conjure-notebook-executable'...\n",
            "remote: Enumerating objects: 6999, done.\u001b[K\n",
            "remote: Counting objects: 100% (6999/6999), done.\u001b[K\n",
            "remote: Compressing objects: 100% (4026/4026), done.\u001b[K\n",
            "remote: Total 6999 (delta 2770), reused 6992 (delta 2763), pack-reused 0\u001b[K\n",
            "Receiving objects: 100% (6999/6999), 39.03 MiB | 17.56 MiB/s, done.\n",
            "Resolving deltas: 100% (2770/2770), done.\n",
            "Checking out files: 100% (7128/7128), done.\n",
            "Collecting git+https://github.com/conjure-cp/conjure-notebook.git\n",
            "  Cloning https://github.com/conjure-cp/conjure-notebook.git to /tmp/pip-req-build-bu0xdqw5\n",
            "  Running command git clone -q https://github.com/conjure-cp/conjure-notebook.git /tmp/pip-req-build-bu0xdqw5\n"
          ]
        }
      ],
      "source": [
        "!source <(curl https://raw.githubusercontent.com/conjure-cp/conjure-notebook/main/installcolab.sh)\n",
        "%load_ext conjure"
      ]
    },
    {
      "cell_type": "code",
      "source": [
        "%%conjure\n",
        "\n",
        "find x,y,z : int(0..9)\n",
        "find xyz : int(400..800)\n",
        "such that\n",
        "  xyz = 100 * x + 10 * y + z,\n",
        "  x + y + z = 15,\n",
        "  y = 2 * x"
      ],
      "metadata": {
        "colab": {
          "base_uri": "https://localhost:8080/"
        },
        "id": "zE683wkVstde",
        "outputId": "69f6db1b-e2b9-4221-a176-1435f4c72439"
      },
      "execution_count": null,
      "outputs": [
        {
          "output_type": "execute_result",
          "data": {
            "text/plain": [
              "{'x': 4, 'xyz': 483, 'y': 8, 'z': 3}"
            ]
          },
          "metadata": {},
          "execution_count": 2
        }
      ]
    }
  ]
}