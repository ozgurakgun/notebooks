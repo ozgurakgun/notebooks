{
  "nbformat": 4,
  "nbformat_minor": 0,
  "metadata": {
    "colab": {
      "provenance": [],
      "authorship_tag": "ABX9TyNrTBeNABnls4jOe/IZ6qdX",
      "include_colab_link": true
    },
    "kernelspec": {
      "name": "python3",
      "display_name": "Python 3"
    },
    "language_info": {
      "name": "python"
    }
  },
  "cells": [
    {
      "cell_type": "markdown",
      "metadata": {
        "id": "view-in-github",
        "colab_type": "text"
      },
      "source": [
        "<a href=\"https://colab.research.google.com/github/ozgurakgun/notebooks/blob/main/The_Heist.ipynb\" target=\"_parent\"><img src=\"https://colab.research.google.com/assets/colab-badge.svg\" alt=\"Open In Colab\"/></a>"
      ]
    },
    {
      "cell_type": "code",
      "execution_count": 1,
      "metadata": {
        "colab": {
          "base_uri": "https://localhost:8080/",
          "height": 139
        },
        "id": "qLze4-TsBKla",
        "outputId": "3c1941fb-2d69-4b25-899b-ca7a5fb6df6b"
      },
      "outputs": [
        {
          "output_type": "stream",
          "name": "stdout",
          "text": [
            "Installing Conjure version v2.5.1 and Conjure Notebook version v0.0.10...\n",
            "Downloading...\n",
            "Conjure: The Automated Constraint Modelling Tool\n",
            "Release version 2.5.1\n",
            "Repository version a9cbc2e (2023-11-07 23:44:00 +0000)\n"
          ]
        },
        {
          "output_type": "display_data",
          "data": {
            "text/plain": [
              "<IPython.core.display.Javascript object>"
            ],
            "application/javascript": [
              "\"use strict\";\n",
              "\n",
              "CodeMirror.defineMode(\"text/conjure\", function (config) {\n",
              "\n",
              "    var isOperatorChar = /[+\\-*=<>%^\\/]/;\n",
              "\n",
              "    var keywords = {\n",
              "        \"forall\": true,\n",
              "        \"allDifferent\": true,\n",
              "        \"allDiff\": true,\n",
              "        \"alldifferent_except\": true,\n",
              "        \"dim\": true,\n",
              "        \"toSet\": true,\n",
              "        \"toMSet\": true,\n",
              "        \"toRelation\": true,\n",
              "        \"maximising\": true,\n",
              "        \"minimising\": true,\n",
              "        \"forAll\": true,\n",
              "        \"exists\": true,\n",
              "        \"toInt\": true,\n",
              "        \"sum\": true,\n",
              "        \"be\": true,\n",
              "        \"bijective\": true,\n",
              "        \"bool\": true,\n",
              "        \"by\": true,\n",
              "        \"complete\": true,\n",
              "        \"defined\": true,\n",
              "        \"domain\": true,\n",
              "        \"in\": true,\n",
              "        \"or\": true,\n",
              "        \"and\": true,\n",
              "        \"false\": true,\n",
              "        \"find\": true,\n",
              "        \"from\": true,\n",
              "        \"function\": true,\n",
              "        \"given\": true,\n",
              "        \"image\": true,\n",
              "        \"indexed\": true,\n",
              "        \"injective\": true,\n",
              "        \"int\": true,\n",
              "        \"intersect\": true,\n",
              "        \"freq\": true,\n",
              "        \"lambda\": true,\n",
              "        \"language\": true,\n",
              "        \"letting\": true,\n",
              "        \"matrix\": true,\n",
              "        \"maxNumParts\": true,\n",
              "        \"maxOccur\": true,\n",
              "        \"maxPartSize\": true,\n",
              "        \"maxSize\": true,\n",
              "        \"minNumParts\": true,\n",
              "        \"minOccur\": true,\n",
              "        \"minPartSize\": true,\n",
              "        \"minSize\": true,\n",
              "        \"mset\": true,\n",
              "        \"numParts\": true,\n",
              "        \"of\": true,\n",
              "        \"partial\": true,\n",
              "        \"partition\": true,\n",
              "        \"partSize\": true,\n",
              "        \"preImage\": true,\n",
              "        \"quantifier\": true,\n",
              "        \"range\": true,\n",
              "        \"regular\": true,\n",
              "        \"relation\": true,\n",
              "        \"representation\": true,\n",
              "        \"set\": true,\n",
              "        \"size\": true,\n",
              "        \"subset\": true,\n",
              "        \"subsetEq\": true,\n",
              "        \"such\": true,\n",
              "        \"supset\": true,\n",
              "        \"supsetEq\": true,\n",
              "        \"surjective\": true,\n",
              "        \"that\": true,\n",
              "        \"together\": true,\n",
              "        \"enum\": true,\n",
              "        \"total\": true,\n",
              "        \"true\": true,\n",
              "        \"new\": true,\n",
              "        \"type\": true,\n",
              "        \"tuple\": true,\n",
              "        \"union\": true,\n",
              "        \"where\": true,\n",
              "        \"branching\": true,\n",
              "        \"on\": true\n",
              "    };  \n",
              "    var punc = \":;,.(){}[]\";\n",
              "\n",
              "    function tokenBase(stream, state) {\n",
              "        var ch = stream.next();\n",
              "        if (ch == '\"') {\n",
              "            state.tokenize.push(tokenString);\n",
              "            return tokenString(stream, state);\n",
              "        }\n",
              "        if (/[\\d\\.]/.test(ch)) {\n",
              "            if (ch == \".\") {\n",
              "                stream.match(/^[0-9]+([eE][\\-+]?[0-9]+)?/);\n",
              "            } else if (ch == \"0\") {\n",
              "                stream.match(/^[xX][0-9a-fA-F]+/) || stream.match(/^0[0-7]+/);\n",
              "            } else {\n",
              "                stream.match(/^[0-9]*\\.?[0-9]*([eE][\\-+]?[0-9]+)?/);\n",
              "            }\n",
              "            return \"number\";\n",
              "        }\n",
              "        if (ch == \"/\") {\n",
              "            if (stream.eat(\"*\")) {\n",
              "                state.tokenize.push(tokenComment);\n",
              "                return tokenComment(stream, state);\n",
              "            }\n",
              "        }\n",
              "        if (ch == \"$\") {\n",
              "            stream.skipToEnd();\n",
              "            return \"comment\";\n",
              "        }\n",
              "        if (isOperatorChar.test(ch)) {\n",
              "            stream.eatWhile(isOperatorChar);\n",
              "            return \"operator\";\n",
              "        }\n",
              "        if (punc.indexOf(ch) > -1) {\n",
              "            return \"punctuation\";\n",
              "        }\n",
              "        stream.eatWhile(/[\\w\\$_\\xa1-\\uffff]/);\n",
              "        var cur = stream.current();\n",
              "        \n",
              "        if (keywords.propertyIsEnumerable(cur)) {\n",
              "            return \"keyword\";\n",
              "        }\n",
              "        return \"variable\";\n",
              "    }\n",
              "\n",
              "    function tokenComment(stream, state) {\n",
              "        var maybeEnd = false, ch;\n",
              "        while (ch = stream.next()) {\n",
              "            if (ch == \"/\" && maybeEnd) {\n",
              "                state.tokenize.pop();\n",
              "                break;\n",
              "            }\n",
              "            maybeEnd = (ch == \"*\");\n",
              "        }\n",
              "        return \"comment\";\n",
              "    }\n",
              "\n",
              "    function tokenUntilClosingParen() {\n",
              "        var depth = 0;\n",
              "        return function (stream, state, prev) {\n",
              "            var inner = tokenBase(stream, state, prev);\n",
              "            console.log(\"untilClosing\", inner, stream.current());\n",
              "            if (inner == \"punctuation\") {\n",
              "                if (stream.current() == \"(\") {\n",
              "                    ++depth;\n",
              "                } else if (stream.current() == \")\") {\n",
              "                    if (depth == 0) {\n",
              "                        stream.backUp(1)\n",
              "                        state.tokenize.pop()\n",
              "                        return state.tokenize[state.tokenize.length - 1](stream, state)\n",
              "                    } else {\n",
              "                        --depth;\n",
              "                    }\n",
              "                }\n",
              "            }\n",
              "            return inner;\n",
              "        }\n",
              "    }\n",
              "\n",
              "    function tokenString(stream, state) {\n",
              "        var escaped = false, next, end = false;\n",
              "        while ((next = stream.next()) != null) {\n",
              "            if (next == '(' && escaped) {\n",
              "                state.tokenize.push(tokenUntilClosingParen());\n",
              "                return \"string\";\n",
              "            }\n",
              "            if (next == '\"' && !escaped) { end = true; break; }\n",
              "            escaped = !escaped && next == \"\\\\\";\n",
              "        }\n",
              "        if (end || !escaped)\n",
              "            state.tokenize.pop();\n",
              "        return \"string\";\n",
              "    }\n",
              "\n",
              "    return {\n",
              "        startState: function (basecolumn) {\n",
              "            return {\n",
              "                tokenize: []\n",
              "            };\n",
              "        },\n",
              "\n",
              "        token: function (stream, state) {\n",
              "            if (stream.eatSpace()) return null;\n",
              "            var style = (state.tokenize[state.tokenize.length - 1] || tokenBase)(stream, state);\n",
              "            console.log(\"token\", style);\n",
              "            return style;\n",
              "        },\n",
              "\n",
              "        blockCommentStart: \"/*\",\n",
              "        blockCommentEnd: \"*/\",\n",
              "        lineComment: \"$\"\n",
              "    };\n",
              "});\n",
              "\n",
              "\n",
              "CodeMirror.defineMIME(\"text/conjure\", \"text/conjure\");\n",
              "\n",
              "require(['notebook/js/codecell'], function (codecell) {\n",
              "    codecell.CodeCell.options_default.highlight_modes['magic_text/conjure'] = { 'reg': [/%?%conjure/] };\n",
              "    Jupyter.notebook.events.one('kernel_ready.Kernel', function () {\n",
              "        Jupyter.notebook.get_cells().map(function (cell) {\n",
              "            if (cell.cell_type == 'code') { cell.auto_highlight(); }\n",
              "        });\n",
              "    });\n",
              "});\n",
              "\n"
            ]
          },
          "metadata": {}
        },
        {
          "output_type": "display_data",
          "data": {
            "text/plain": [
              "<IPython.core.display.Markdown object>"
            ],
            "text/markdown": "Conjure extension is loaded - run `%conjure_help`"
          },
          "metadata": {}
        }
      ],
      "source": [
        "!source <(curl -s https://raw.githubusercontent.com/conjure-cp/conjure-notebook/v0.0.10/scripts/install-colab.sh)\n",
        "%reload_ext conjure"
      ]
    },
    {
      "cell_type": "markdown",
      "source": [
        "Problem definition from: https://www.futilitycloset.com/2024/10/23/the-heist/\n",
        "\n",
        "> A puzzle by Jared Z., Nicole H., and Benjamin E., mathematicians at the National Security Agency:\n",
        ">\n",
        "> The chief detective hurried down to the police station after hearing big news: there was a heist at Pi National Bank! The police had brought in seven known gang members seen leaving the scene of the crime. They belonged to the nefarious True/False Gang, so named because each member is either required to always tell the truth or required to always lie, although everyone is capable of engaging in wrongdoing. The chief also knew from his past cases that any crime committed by the gang always included one truth teller.\n",
        ".\n",
        "> When the chief showed up, he asked the gang members the following questions:\n",
        ">\n",
        "> 1. Are you guilty?\n",
        "> 2. How many of the seven of you are guilty?\n",
        "> 3. How many of the seven of you tell the truth?\n",
        ">\n",
        ">\n",
        "> Here were their responses:\n",
        ">\n",
        "> - Person 1: Yes; 1; 1\n",
        "> - Person 2: Yes; 3; 3\n",
        "> - Person 3: No; 2; 2\n",
        "> - Person 4: No; 4; 1\n",
        "> - Person 5: No; 3; 3\n",
        "> - Person 6: No; 3; 3\n",
        "> - Person 7: Yes; 2; 2\n",
        ">\n",
        "> After looking these answers over, the chief prepared to arrest those responsible.\n",
        ">\n",
        "> Which of these seven did the chief arrest?\n",
        "\n"
      ],
      "metadata": {
        "id": "uhEHWBLqBO07"
      }
    },
    {
      "cell_type": "code",
      "source": [
        "says_guilty = [True, True, False, False, False, False, True]\n",
        "says_nb_guilty = [1,3,2,4,3,3,2]\n",
        "says_nb_truth = [1,3,2,1,3,3,2]"
      ],
      "metadata": {
        "id": "mZesKMvVBg7h"
      },
      "execution_count": 2,
      "outputs": []
    },
    {
      "cell_type": "code",
      "source": [
        "def conjure_display_solution():\n",
        "    print(\"actually_guilty\", actually_guilty)\n",
        "    print(\"actually_tells_truth\", actually_tells_truth)\n",
        "    print(\"total_truthful\", total_truthful)\n",
        "    print(\"total_guilty\", total_guilty)"
      ],
      "metadata": {
        "id": "Qt9PcQvcCaRA"
      },
      "execution_count": 3,
      "outputs": []
    },
    {
      "cell_type": "code",
      "source": [
        "%%conjure --solver=minion --number-of-solutions=all\n",
        "\n",
        "letting PERSON be domain int(1..7)\n",
        "\n",
        "given says_guilty : matrix indexed by [int(1..7)] of bool\n",
        "given says_nb_guilty : matrix indexed by [int(1..7)] of int(1..7)\n",
        "given says_nb_truth : matrix indexed by [int(1..7)] of int(1..7)\n",
        "\n",
        "find actually_guilty : matrix indexed by [int(1..7)] of bool\n",
        "find actually_tells_truth : matrix indexed by [int(1..7)] of bool\n",
        "\n",
        "find total_guilty : int(0..7)\n",
        "such that total_guilty = sum([toInt(actually_guilty[i]) | i : PERSON])\n",
        "\n",
        "find total_truthful : int(0..7)\n",
        "such that total_truthful = sum([toInt(actually_tells_truth[i]) | i : PERSON])\n",
        "\n",
        "such that\n",
        "    forAll p : PERSON .\n",
        "        actually_tells_truth[p] <-> (says_guilty[p] <-> actually_guilty[p])\n",
        "\n",
        "such that\n",
        "    forAll p : PERSON .\n",
        "        actually_tells_truth[p] <-> (says_nb_guilty[p] = total_guilty /\\ says_nb_truth[p] = total_truthful)"
      ],
      "metadata": {
        "colab": {
          "base_uri": "https://localhost:8080/",
          "height": 605
        },
        "id": "EnGoKGcQB18R",
        "outputId": "64ce9bb9-eb94-4239-b08f-21872e16e4cc"
      },
      "execution_count": 4,
      "outputs": [
        {
          "output_type": "display_data",
          "data": {
            "text/plain": [
              "<IPython.core.display.Markdown object>"
            ],
            "text/markdown": "## Solution 1"
          },
          "metadata": {}
        },
        {
          "output_type": "stream",
          "name": "stdout",
          "text": [
            "actually_guilty {'1': False, '2': False, '3': True, '4': True, '5': True, '6': True, '7': False}\n",
            "actually_tells_truth {'1': False, '2': False, '3': False, '4': False, '5': False, '6': False, '7': False}\n",
            "total_truthful 0\n",
            "total_guilty 4\n"
          ]
        },
        {
          "output_type": "display_data",
          "data": {
            "text/plain": [
              "<IPython.core.display.Markdown object>"
            ],
            "text/markdown": "## Solution 2"
          },
          "metadata": {}
        },
        {
          "output_type": "stream",
          "name": "stdout",
          "text": [
            "actually_guilty {'1': False, '2': True, '3': True, '4': True, '5': False, '6': False, '7': False}\n",
            "actually_tells_truth {'1': False, '2': True, '3': False, '4': False, '5': True, '6': True, '7': False}\n",
            "total_truthful 3\n",
            "total_guilty 3\n"
          ]
        },
        {
          "output_type": "display_data",
          "data": {
            "text/plain": [
              "<IPython.core.display.Markdown object>"
            ],
            "text/markdown": "| Statistic | Value |\n|:-|-:|\n| SolverTotalTime | 0 |\n| SavileRowClauseOut | 0 |\n| SolverSolveTime | 0 |\n| SavileRowTotalTime | 0.302 |\n| SolverSatisfiable | 1 |\n| SavileRowTimeOut | 0 |\n| SolverNodes | 3 |\n| SolverTimeOut | 0 |\n| SolverSolutionsFound | 2 |\n| SolverSetupTime | 0 |\n"
          },
          "metadata": {}
        }
      ]
    },
    {
      "cell_type": "markdown",
      "source": [
        "2 solutions? Surely not. Puzzles tend to have a single solution.\n",
        "\n",
        "Turns out we forgot a constraint. Let's add it."
      ],
      "metadata": {
        "id": "hCYe8OnvWlGh"
      }
    },
    {
      "cell_type": "code",
      "source": [
        "%%conjure+ --solver=minion --number-of-solutions=all\n",
        "\n",
        "$ The chief also knew from his past cases that any crime committed by the gang always included one truth teller.\n",
        "such that total_truthful > 0"
      ],
      "metadata": {
        "colab": {
          "base_uri": "https://localhost:8080/",
          "height": 437
        },
        "id": "zQHZckwWWsIB",
        "outputId": "a12f4960-3344-4859-ca10-b899e224fde1"
      },
      "execution_count": 5,
      "outputs": [
        {
          "output_type": "stream",
          "name": "stdout",
          "text": [
            "actually_guilty {'1': False, '2': True, '3': True, '4': True, '5': False, '6': False, '7': False}\n",
            "actually_tells_truth {'1': False, '2': True, '3': False, '4': False, '5': True, '6': True, '7': False}\n",
            "total_truthful 3\n",
            "total_guilty 3\n"
          ]
        },
        {
          "output_type": "display_data",
          "data": {
            "text/plain": [
              "<IPython.core.display.Markdown object>"
            ],
            "text/markdown": "| Statistic | Value |\n|:-|-:|\n| SolverTotalTime | 0.000402 |\n| SavileRowClauseOut | 0 |\n| SolverSolveTime | 5e-05 |\n| SavileRowTotalTime | 0.341 |\n| SolverSatisfiable | 1 |\n| SavileRowTimeOut | 0 |\n| SolverNodes | 1 |\n| SolverTimeOut | 0 |\n| SolverSolutionsFound | 1 |\n| SolverSetupTime | 6.9e-05 |\n"
          },
          "metadata": {}
        }
      ]
    }
  ]
}